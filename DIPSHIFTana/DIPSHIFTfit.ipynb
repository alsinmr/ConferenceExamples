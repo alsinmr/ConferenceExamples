{
  "cells": [
    {
      "cell_type": "markdown",
      "id": "0dcc9b2d",
      "metadata": {
        "id": "0dcc9b2d"
      },
      "source": [
        "# DIPSHIFT Fitter"
      ]
    },
    {
      "cell_type": "code",
      "execution_count": null,
      "id": "0d38564e",
      "metadata": {
        "cellView": "form",
        "id": "0d38564e"
      },
      "outputs": [],
      "source": [
        "#@title Setup fitter\n",
        "import sys\n",
        "if 'google.colab' in sys.modules:\n",
        "    !pip install sleepy-nmr\n",
        "else:\n",
        "    sys.path.append('/Users/albertsmith/Documents/GitHub/')\n",
        "    sys.path.append('/Users/albertsmith/Documents/GitHub.nosync/')\n",
        "import SLEEPY as sl\n",
        "import numpy as np\n",
        "import matplotlib.pyplot as plt\n",
        "from scipy.optimize import least_squares\n",
        "\n",
        "dHC=sl.Tools.dipole_coupling(.109,'1H','13C')\n",
        "tetra=np.arccos(-1/3)\n",
        "\n",
        "class DIPSHIFT():\n",
        "    def __init__(self,nH:int=1,vr:float=5000,N:int=17,dHX=dHC,n_alpha:int=100,n_beta:int=50,n_gamma:int=100):\n",
        "        super().__setattr__('nH',nH)\n",
        "        self.dHX=dHX\n",
        "\n",
        "        # self.ex=sl.ExpSys(v0H=500,Nucs=['13C',*['1H']*nH],\n",
        "        #                   pwdavg=sl.PowderAvg('grid',n_alpha=n_alpha,n_beta=n_beta),n_gamma=n_gamma)\n",
        "\n",
        "        self.ex=sl.ExpSys(v0H=500,Nucs=['13C',*['1H']*nH],\n",
        "                          pwdavg=sl.PowderAvg('rep144'),n_gamma=256)\n",
        "\n",
        "        beta=0 if nH==1 else (tetra/2 if nH==2 else tetra)\n",
        "\n",
        "        for k in range(nH):\n",
        "            self.ex.set_inter('dipole',i0=0,i1=k+1,delta=1,euler=[0,beta,k*2*np.pi/nH])\n",
        "\n",
        "        H=self.ex.Hamiltonian()[0]\n",
        "        self.Azz=np.array([Hi.rotInter.Azz[:,[0,1,3,4]]/np.sqrt(6) for Hi in H.Hinter])\n",
        "\n",
        "        self.N=N\n",
        "        self.vr=vr\n",
        "\n",
        "\n",
        "    def __setattr__(self,name,value):\n",
        "        assert name not in ['nH'],f'{name} cannot be set after initialization'\n",
        "        if name in ['N','vr']:\n",
        "            self._xt=None\n",
        "        super().__setattr__(name,value)\n",
        "\n",
        "    @property\n",
        "    def tau(self):\n",
        "        return np.arange(self.N)*1/(self.vr*(self.N-1))\n",
        "\n",
        "    @property\n",
        "    def exp(self):\n",
        "        return np.array([1j/(q*2*np.pi*self.vr)*(np.exp(-1j*q*self.tau*2*np.pi*self.vr)-1) for q in [-2,-1,1,2]]).T\n",
        "\n",
        "    @property\n",
        "    def xt(self):\n",
        "        if self._xt is None:\n",
        "            self._xt=np.array([[(Azz0*exp0).sum(-1).real for Azz0 in self.Azz] for exp0 in self.exp],dtype=float)\n",
        "        return self._xt\n",
        "\n",
        "\n",
        "    def I(self,S):\n",
        "        omegat=np.cos(2*np.pi*self.dHX*S*self.xt)\n",
        "        I=(omegat.prod(1)*self.ex.pwdavg.weight).sum(-1)\n",
        "        return I\n",
        "\n",
        "    def plot(self,S=None,ax=None,I=None):\n",
        "        if ax is None:ax=plt.subplots()[1]\n",
        "        assert S is not None or I is not None,'S or I must be defined'\n",
        "\n",
        "        if S is None:S=self.fit(I)\n",
        "\n",
        "        ax.plot(self.tau*self.vr,self.I(S))\n",
        "        ax.set_xlabel(r'$\\tau*\\nu_r$')\n",
        "        if I is not None:\n",
        "            ax.scatter(self.tau*self.vr,I,marker='x',color='black')\n",
        "            ax.text(0,.05,f'S={S:.3f}')\n",
        "        ax.set_ylim([min(0,ax.get_ylim()[0]),max([1,ax.get_ylim()[1]])])\n",
        "        return ax\n",
        "\n",
        "    def fit(self,I):\n",
        "        def fun(S):\n",
        "            return ((self.I(S)-I)**2).sum()\n",
        "        return np.abs(least_squares(fun, 0)['x'][0])\n",
        "\n",
        "def DS(nH,vr=5000,N=17,DSobj=[None,None,None]):\n",
        "    assert nH in [1,2,3],\"nH must be 1, 2, or 3\"\n",
        "    if DSobj[nH-1] is None:\n",
        "        DSobj[nH-1]=DIPSHIFT(nH=nH)\n",
        "    out=DSobj[nH-1]\n",
        "    out.vr=vr\n",
        "    out.N=N\n",
        "    return out"
      ]
    },
    {
      "cell_type": "markdown",
      "id": "c8af34ac",
      "metadata": {
        "id": "c8af34ac"
      },
      "source": [
        "## Generate test data"
      ]
    },
    {
      "cell_type": "code",
      "execution_count": null,
      "id": "5bb45ae8",
      "metadata": {
        "id": "5bb45ae8"
      },
      "outputs": [],
      "source": [
        "nH=2\n",
        "N=17\n",
        "S=0.5\n",
        "vr=5000\n",
        "noise=.2\n",
        "\n",
        "I=DS(nH,vr,N).I(S)+np.random.randn(N)*noise"
      ]
    },
    {
      "cell_type": "markdown",
      "id": "080d5963",
      "metadata": {
        "id": "080d5963"
      },
      "source": [
        "## Input experimental data"
      ]
    },
    {
      "cell_type": "code",
      "execution_count": null,
      "id": "301c9c78",
      "metadata": {
        "id": "301c9c78"
      },
      "outputs": [],
      "source": [
        "# I=[]"
      ]
    },
    {
      "cell_type": "markdown",
      "id": "d7de6af8",
      "metadata": {
        "id": "d7de6af8"
      },
      "source": [
        "## Fit data"
      ]
    },
    {
      "cell_type": "code",
      "execution_count": null,
      "id": "ff5798fd",
      "metadata": {
        "id": "ff5798fd",
        "outputId": "ecfe345f-3e69-4d96-d7d5-77c0183bfbbf"
      },
      "outputs": [
        {
          "data": {
            "image/png": "[encoded data removed]",
            "text/plain": [
              "<Figure size 432x288 with 1 Axes>"
            ]
          },
          "metadata": {
            "needs_background": "light"
          },
          "output_type": "display_data"
        }
      ],
      "source": [
        "_=DS(nH,vr,N).plot(I=I)"
      ]
    },
    {
      "cell_type": "code",
      "execution_count": null,
      "id": "fbdbfb89",
      "metadata": {
        "id": "fbdbfb89"
      },
      "outputs": [],
      "source": []
    }
  ],
  "metadata": {
    "kernelspec": {
      "display_name": "Python 3",
      "language": "python",
      "name": "python3"
    },
    "language_info": {
      "codemirror_mode": {
        "name": "ipython",
        "version": 3
      },
      "file_extension": ".py",
      "mimetype": "text/x-python",
      "name": "python",
      "nbconvert_exporter": "python",
      "pygments_lexer": "ipython3",
      "version": "3.7.3"
    },
    "colab": {
      "provenance": []
    }
  },
  "nbformat": 4,
  "nbformat_minor": 5
}