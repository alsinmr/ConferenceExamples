{
 "cells": [
  {
   "cell_type": "code",
   "execution_count": null,
   "id": "ab1c9020",
   "metadata": {},
   "outputs": [],
   "source": [
    "!pip install sleepy-nmr"
   ]
  },
  {
   "cell_type": "code",
   "execution_count": 2,
   "id": "afcbac65",
   "metadata": {},
   "outputs": [],
   "source": [
    "import SLEEPY as sl"
   ]
  },
  {
   "cell_type": "code",
   "execution_count": 3,
   "id": "9c24fccd",
   "metadata": {},
   "outputs": [],
   "source": [
    "commute=sl.Tools.commute\n",
    "I,S=sl.SpinOp([1/2,1/2])"
   ]
  },
  {
   "cell_type": "code",
   "execution_count": 4,
   "id": "02b02bad",
   "metadata": {},
   "outputs": [
    {
     "name": "stdout",
     "output_type": "stream",
     "text": [
      "[[ 0.+0.j  0.+0.j  0.+0.j  0.+0.j]\n",
      " [ 0.+0.j -1.+0.j  0.+0.j  0.+0.j]\n",
      " [ 0.+0.j  0.+0.j  1.+0.j  0.+0.j]\n",
      " [ 0.+0.j  0.+0.j  0.+0.j  0.+0.j]]\n"
     ]
    }
   ],
   "source": [
    "print(commute(I.p@S.m,commute(I.m@S.p,S.z)))"
   ]
  },
  {
   "cell_type": "code",
   "execution_count": 6,
   "id": "327339ad",
   "metadata": {},
   "outputs": [
    {
     "name": "stdout",
     "output_type": "stream",
     "text": [
      "[[ 0.+0.j  0.+0.j  0.+0.j  0.+0.j]\n",
      " [ 0.+0.j -1.+0.j  0.+0.j -0.+0.j]\n",
      " [ 0.+0.j  0.+0.j  1.+0.j  0.+0.j]\n",
      " [ 0.+0.j -0.+0.j  0.+0.j  0.+0.j]]\n"
     ]
    }
   ],
   "source": [
    "print(S.z-I.z)"
   ]
  },
  {
   "cell_type": "code",
   "execution_count": null,
   "id": "b6d27924",
   "metadata": {},
   "outputs": [],
   "source": []
  }
 ],
 "metadata": {
  "kernelspec": {
   "display_name": "Python 3",
   "language": "python",
   "name": "python3"
  },
  "language_info": {
   "codemirror_mode": {
    "name": "ipython",
    "version": 3
   },
   "file_extension": ".py",
   "mimetype": "text/x-python",
   "name": "python",
   "nbconvert_exporter": "python",
   "pygments_lexer": "ipython3",
   "version": "3.8.8"
  }
 },
 "nbformat": 4,
 "nbformat_minor": 5
}
