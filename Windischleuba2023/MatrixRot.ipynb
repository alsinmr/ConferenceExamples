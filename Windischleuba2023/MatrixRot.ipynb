{
 "cells": [
  {
   "cell_type": "markdown",
   "id": "c350de08",
   "metadata": {},
   "source": [
    "# Spherical Tensors: \n",
    "## *Decomposing a matrix into irreducible spherical components*"
   ]
  },
  {
   "cell_type": "code",
   "execution_count": 1,
   "id": "d87bb02a",
   "metadata": {},
   "outputs": [],
   "source": [
    "import numpy as np"
   ]
  },
  {
   "cell_type": "markdown",
   "id": "029529a5",
   "metadata": {},
   "source": [
    "In this notebook, we'll generate a 3x3 matrix, decompose it, and demonstrate the rotational behavior of the components"
   ]
  },
  {
   "cell_type": "code",
   "execution_count": 12,
   "id": "4effeb93",
   "metadata": {},
   "outputs": [
    {
     "name": "stdout",
     "output_type": "stream",
     "text": [
      "[[0.70496514 0.307791   0.9967534 ]\n",
      " [0.81643287 0.88261994 0.24257709]\n",
      " [0.96673373 0.18123533 0.79048781]]\n"
     ]
    }
   ],
   "source": [
    "Ai=np.random.rand(3,3)\n",
    "print(Ai)"
   ]
  },
  {
   "cell_type": "markdown",
   "id": "f0228cfb",
   "metadata": {},
   "source": [
    "The matrix functions for rotation about the *y* and *z* axes are given as follows:\n",
    "\n",
    "\n",
    "\\begin{equation}\n",
    "\\mathbf{R}_z(\\theta)=\\begin{pmatrix}\n",
    "\\cos\\theta & -\\sin\\theta & 0 \\\\\n",
    "\\sin\\theta & \\cos\\theta & 0 \\\\\n",
    "0 & 0 & 1\n",
    "\\end{pmatrix}\n",
    "\\end{equation}\n",
    "\\begin{equation}\n",
    "\\mathbf{R}_y(\\theta)=\\begin{pmatrix}\n",
    "\\cos\\theta & 0 & \\sin\\theta \\\\\n",
    "0 & 1 & 0 \\\\\n",
    "-\\sin\\theta & 0 & \\cos\\theta\n",
    "\\end{pmatrix}\n",
    "\\end{equation}\n",
    "A arbitrary rotation of a tensor may be expressed as a product of a sequence of 3 rotations, first about *z*, then about *y*, and finally about *z* again. This is given by:\n",
    "\\begin{equation}\n",
    "\\mathbf{R}_{zyz}(\\alpha,\\beta,\\gamma)=\\mathbf{R}_z(\\gamma)\\cdot\\mathbf{R}_y(\\beta)\\cdot\\mathbf{R}_z(\\alpha)\n",
    "\\end{equation}\n",
    "Rotation of the matrix, $\\mathbf{A}^i$ to its final value, $\\mathbf{A}^f$, is then given by\n",
    "\\begin{equation}\n",
    "\\mathbf{A}^f=\\mathbf{R}_{zyz}(\\alpha,\\beta,\\gamma)\\cdot\\mathbf{A}^i\\mathbf{R}_{zyz}^{-1}\n",
    "\\end{equation}\n",
    "Note that\n",
    "\\begin{equation}\n",
    "\\mathbf{R}_{zyz}^{-1}=\\mathbf{R}_z(-\\gamma)\\cdot\\mathbf{R}_y(-\\beta)\\cdot\\mathbf{R}_z(-\\alpha)=\\mathbf{R}_{zyz}(-\\gamma,-\\beta,-\\alpha)=\\mathbf{R}_{zyz}^\\dagger(\\alpha,\\beta,\\gamma)\n",
    "\\end{equation}\n",
    "The code for generating these matrices (here as *lambda* functions) is given below"
   ]
  },
  {
   "cell_type": "code",
   "execution_count": 16,
   "id": "0c625d31",
   "metadata": {},
   "outputs": [],
   "source": [
    "Rz=lambda theta:np.array([[np.cos(theta),-np.sin(theta),0],\n",
    "                          [np.sin(theta), np.cos(theta),0],\n",
    "                          [0,             0,            1]])\n",
    "Ry=lambda theta:np.array([[np.cos(theta), 0,np.sin(theta)],\n",
    "                          [0,             1,            0],\n",
    "                          [-np.sin(theta),0,np.cos(theta)]])\n",
    "Rzyz=lambda alpha,beta,gamma:Rz(gamma)@Ry(beta)@Rz(alpha)    #Use the @ symbol for matrix multplication!!\n",
    "Rzyzi=lambda alpha,beta,gamma:Rzyz(alpha,beta,gamma).T"
   ]
  },
  {
   "cell_type": "markdown",
   "id": "93384ff1",
   "metadata": {},
   "source": [
    "So, what happens when we rotate the matrix $\\mathbf{A}$ by some random euler angles?"
   ]
  },
  {
   "cell_type": "code",
   "execution_count": 17,
   "id": "e9494230",
   "metadata": {},
   "outputs": [
    {
     "name": "stdout",
     "output_type": "stream",
     "text": [
      "alpha=155.5, beta=96.6, gamma=86.6\n"
     ]
    }
   ],
   "source": [
    "alpha,beta,gamma=np.random.rand(3)*np.pi  #Random set of euler angles (don't re-run this cell to keep same angles)\n",
    "print(f'alpha={alpha*180/np.pi:.1f}, beta={beta*180/np.pi:.1f}, gamma={gamma*180/np.pi:.1f}')"
   ]
  },
  {
   "cell_type": "code",
   "execution_count": 19,
   "id": "2873b461",
   "metadata": {},
   "outputs": [
    {
     "name": "stdout",
     "output_type": "stream",
     "text": [
      "[[ 0.41061938 -0.07669251  0.76318223]\n",
      " [-0.17813516  1.03609509  0.92798909]\n",
      " [ 0.26682283  1.00994805  0.93135841]]\n"
     ]
    }
   ],
   "source": [
    "Af=Rzyz(alpha,beta,gamma)@Ai@Rzyzi(alpha,beta,gamma)\n",
    "print(Af)"
   ]
  },
  {
   "cell_type": "markdown",
   "id": "d0edb702",
   "metadata": {},
   "source": [
    "Nothing really special happens. We just get a new matrix. But, what if we decompose the matrix $\\mathbf{A_i}$ into special components, that is, into an isotropic part, a symmetric part, and an anti-symmetric part. These parts are given as follows:\n",
    "\\begin{equation}\\mathbf{A}_{iso}=\\frac{trace(\\mathbf{A})}{3}\\begin{pmatrix}1&0&0\\\\0&1&0\\\\0&0&1\\end{pmatrix}\n",
    "\\end{equation}\n",
    "Trace is the sum of the diagonal\n",
    "\\begin{equation}\n",
    "\\mathbf{A}_{sym}=\\frac12\\left(A+A^\\dagger\\right)-\\mathbf{A}_{iso}\n",
    "\\end{equation}\n",
    "\\begin{equation}\n",
    "\\mathbf{A}_{anti}=\\frac12\\left(A-A^\\dagger\\right)\n",
    "\\end{equation}\n",
    "These functions are coded below"
   ]
  },
  {
   "cell_type": "code",
   "execution_count": 25,
   "id": "1a53cfe5",
   "metadata": {},
   "outputs": [],
   "source": [
    "Iso=lambda A:np.trace(A)/3*np.eye(3)\n",
    "Sym=lambda A:0.5*(A+A.T)-Iso(A)\n",
    "Anti=lambda A:0.5*(A-A.T)"
   ]
  },
  {
   "cell_type": "markdown",
   "id": "fc168a11",
   "metadata": {},
   "source": [
    "Then, we may decompose the matrix $\\mathbf{A}^i$ into components $\\mathbf{A}_{iso}$, $\\mathbf{A}_{sym}$, and $\\mathbf{A}_{anti}$ and furthermore verify that they sum up to $\\mathbf{A}^i$"
   ]
  },
  {
   "cell_type": "code",
   "execution_count": 260,
   "id": "eb7a8d9d",
   "metadata": {},
   "outputs": [
    {
     "name": "stdout",
     "output_type": "stream",
     "text": [
      "Aiso_i=\n",
      "[[0.79269096 0.         0.        ]\n",
      " [0.         0.79269096 0.        ]\n",
      " [0.         0.         0.79269096]]\n",
      "Asym_i=\n",
      "[[-0.08772582  0.56211194  0.98174356]\n",
      " [ 0.56211194  0.08992898  0.21190621]\n",
      " [ 0.98174356  0.21190621 -0.00220315]]\n",
      "Aanti_i=\n",
      "[[ 0.         -0.25432093  0.01500983]\n",
      " [ 0.25432093  0.          0.03067088]\n",
      " [-0.01500983 -0.03067088  0.        ]]\n",
      "Aiso_i+Asym_i+Aanti_i-Ai\n",
      "[[ 0.00000000e+00 -5.55111512e-17  0.00000000e+00]\n",
      " [-1.11022302e-16  0.00000000e+00  0.00000000e+00]\n",
      " [ 0.00000000e+00  0.00000000e+00  0.00000000e+00]]\n"
     ]
    }
   ],
   "source": [
    "Aiso_i=Iso(Ai)\n",
    "Asym_i=Sym(Ai)\n",
    "Aanti_i=Anti(Ai)\n",
    "print(f'Aiso_i=\\n{Aiso_i}')\n",
    "print(f'Asym_i=\\n{Asym_i}')\n",
    "print(f'Aanti_i=\\n{Aanti_i}')\n",
    "print(f'Aiso_i+Asym_i+Aanti_i-Ai\\n{Aiso_i+Asym_i+Aanti_i-Ai}')"
   ]
  },
  {
   "cell_type": "markdown",
   "id": "e68377cd",
   "metadata": {},
   "source": [
    "We see, then that $\\mathbf{A}_{iso}$ just has diagonal elements which are all equal, $\\mathbf{A}_{sym}$ has a diagonal that sums to zero, and the off-diagonal elements are symmetric, and $\\mathbf{A}_{anti}$ has no diagonal, and off-diagonal elements that are anti-symmetric. \n",
    "\n",
    "What is furthermore interesting is the behavior of these components under rotation. We apply the euler angles ($\\alpha$,$\\beta$,$\\gamma$) to each of the components, and furthermore sum the answer to verify that they yield $\\mathbf{A}^f$"
   ]
  },
  {
   "cell_type": "code",
   "execution_count": 261,
   "id": "18abe23b",
   "metadata": {},
   "outputs": [
    {
     "name": "stdout",
     "output_type": "stream",
     "text": [
      "Aiso_f=\n",
      "[[ 7.92690962e-01 -4.92292359e-18 -2.33109100e-18]\n",
      " [-6.19982856e-18  7.92690962e-01  6.29931433e-18]\n",
      " [-1.75250656e-18  1.36467340e-17  7.92690962e-01]]\n",
      "Asym_f=\n",
      "[[-0.38207158 -0.12741384  0.51500253]\n",
      " [-0.12741384  0.24340413  0.96896857]\n",
      " [ 0.51500253  0.96896857  0.13866745]]\n",
      "Aanti_f=\n",
      "[[-6.39735875e-18  5.07213247e-02  2.48179703e-01]\n",
      " [-5.07213247e-02 -1.29278646e-19 -4.09794837e-02]\n",
      " [-2.48179703e-01  4.09794837e-02 -1.29979578e-17]]\n",
      "Aiso_f+Asym_f+Aanti_f=\n",
      "[[0.70496514 0.307791   0.9967534 ]\n",
      " [0.81643287 0.88261994 0.24257709]\n",
      " [0.96673373 0.18123533 0.79048781]]\n",
      "Aiso_f+Asym_f+Aanti_f-Af\n",
      "[[ 0.00000000e+00 -5.55111512e-17  0.00000000e+00]\n",
      " [-1.11022302e-16  0.00000000e+00  0.00000000e+00]\n",
      " [ 0.00000000e+00  0.00000000e+00  0.00000000e+00]]\n"
     ]
    }
   ],
   "source": [
    "Aiso_f=Rzyz(alpha,beta,gamma)@Aiso_i@Rzyzi(alpha,beta,gamma)\n",
    "Asym_f=Rzyz(alpha,beta,gamma)@Asym_i@Rzyzi(alpha,beta,gamma)\n",
    "Aanti_f=Rzyz(alpha,beta,gamma)@Aanti_i@Rzyzi(alpha,beta,gamma)\n",
    "print(f'Aiso_f=\\n{Aiso_f}')\n",
    "print(f'Asym_f=\\n{Asym_f}')\n",
    "print(f'Aanti_f=\\n{Aanti_f}')\n",
    "print(f'Aiso_f+Asym_f+Aanti_f=\\n{Aiso_i+Asym_i+Aanti_i}')\n",
    "print(f'Aiso_f+Asym_f+Aanti_f-Af\\n{Aiso_i+Asym_i+Aanti_i-Ai}')"
   ]
  },
  {
   "cell_type": "markdown",
   "id": "999d337a",
   "metadata": {},
   "source": [
    "As expected, the sum of the rotation of the individual components yields the rotation of the total matrix. However, what we should also see is that the isotropic matrix remains isotropic, the symmetric matrix remains symmetric, and the anti-symmetric matrix remains anti-symmetric.\n",
    "\n",
    "***These components do not mix for any arbitrary rotation***\n",
    "\n",
    "However, we can go further in decomposing the matrix. Note that the isotropic matrix is defined by a single value, the anti-symmetric matrix by 3 independent values, and the symmetric matrix is defined by 5 independent values. Then, we will decompose these matrices into 1, 3, and 5 additional matrices ($A_{iso}^0$,$A_{anti}^{-1}$,$A_{anti}^{0}$,$A_{anti}^{1}$,$A_{sym}^{-2}$,$A_{sym}^{-1}$,$A_{sym}^{0}$,$A_{sym}^{1}$,$A_{sym}^{2}$). \n",
    "\n",
    "The basis matrices are as follows:\n",
    "\\begin{equation}\n",
    "\\mathbf{M}_{iso}^0=\\begin{pmatrix}1&0&0\\\\0&1&0\\\\0&0&1\\end{pmatrix}\n",
    "\\end{equation}\n",
    "\n",
    "\n",
    "\\begin{equation}\n",
    "\\mathbf{M}_{anti}^0=\\begin{pmatrix}0&-1&0\\\\1&0&0\\\\0&0&0\\end{pmatrix},\n",
    "\\mathbf{M}_{anti}^{\\pm1}=\\frac12\\begin{pmatrix}0&0&-1\\\\0&0&\\mp i\\\\1&\\pm i&0\\end{pmatrix}\n",
    "\\end{equation}\n",
    "\n",
    "\n",
    "\\begin{equation}\n",
    "\\mathbf{M}_{sym}^0=\\frac12\\begin{pmatrix}-1&0&0\\\\0&-1&0\\\\0&0&2\\end{pmatrix},\n",
    "\\mathbf{M}_{sym}^{\\pm1}=\\frac12\\begin{pmatrix}0&0&\\pm1\\\\0&0&i\\\\\\pm1&i&0\\end{pmatrix},\n",
    "\\mathbf{M}_{sym}^{\\pm2}=\\frac12\\begin{pmatrix}1&\\pm i&0\\\\\\pm i&-1&0\\\\0&0&0\\end{pmatrix}\n",
    "\\end{equation}\n",
    "\n",
    "Below, we define these matrices, and then project that matrix out of \\mathbf{A}_i"
   ]
  },
  {
   "cell_type": "code",
   "execution_count": 292,
   "id": "82c4cf22",
   "metadata": {},
   "outputs": [],
   "source": [
    "Iso_0=lambda A:Iso(A)  #This one doesn't get change\n",
    "\n",
    "M={'iso':{},'anti':{},'sym':{}}  #Storage for all the matrices\n",
    "M['iso'][0]=-1/np.sqrt(3)*np.eye(3)\n",
    "\n",
    "M['anti'][-1]=-0.5*np.array([[0,0,-1],[0,0,-1j],[1,1j,0]])\n",
    "M['anti'][0]=-1j/np.sqrt(2)*np.array([[0,-1,0],[1,0,0],[0,0,0]])\n",
    "M['anti'][1]=-0.5*np.array([[0,0,-1],[0,0,1j],[1,-1j,0]])\n",
    "\n",
    "M['sym'][-2]=0.5*np.array([[1,-1j,0],[-1j,-1,0],[0,0,0]])\n",
    "M['sym'][-1]=0.5*np.array([[0,0,-1],[0,0,1j],[-1,1j,0]])\n",
    "M['sym'][0]=1/np.sqrt(6)*np.diag([-1,-1,2])\n",
    "M['sym'][1]=0.5*np.array([[0,0,1],[0,0,1j],[1,1j,0]])\n",
    "M['sym'][2]=0.5*np.array([[1,1j,0],[1j,-1,0],[0,0,0]])\n",
    "\n",
    "\n",
    "#First, a general function for selecting out a component of the matrix\n",
    "CompA=lambda M,A:np.trace(A@M.conj().T)/np.trace(M@M.conj().T)\n",
    "CompMat=lambda M,A:CompA(M,A)*M\n",
    "\n",
    "\n",
    "funsA={key:{k:(lambda A,v=v:CompA(v,A)) for k,v in value.items()} for key,value in M.items()}\n",
    "funs={key:{k:(lambda A,v=v:CompMat(v,A)) for k,v in value.items()} for key,value in M.items()}"
   ]
  },
  {
   "cell_type": "code",
   "execution_count": 293,
   "id": "dc18af2f",
   "metadata": {},
   "outputs": [
    {
     "name": "stdout",
     "output_type": "stream",
     "text": [
      "Aiso components:\n",
      "[[       0.793,       0.000,       0.000]\n",
      " [       0.000,       0.793,       0.000]\n",
      " [       0.000,       0.000,       0.793]]\n",
      "\n",
      "Aanti components:\n",
      "[[0.000+0.000j,0.000+0.000j,0.008-0.015j]\n",
      " [0.000+0.000j,0.000+0.000j,0.015+0.008j]\n",
      " [-0.008+0.015j,-0.015-0.008j,0.000+0.000j]]\n",
      "\n",
      "[[0.000+0.000j,-0.254+0.000j,0.000+0.000j]\n",
      " [0.254+0.000j,0.000+0.000j,0.000+0.000j]\n",
      " [0.000+0.000j,0.000+0.000j,0.000+0.000j]]\n",
      "\n",
      "[[-0.000+0.000j,-0.000+0.000j,0.008+0.015j]\n",
      " [-0.000+0.000j,-0.000+0.000j,0.015-0.008j]\n",
      " [-0.008-0.015j,-0.015+0.008j,-0.000+0.000j]]\n",
      "\n",
      "Asym components:\n",
      "[[-0.044+0.281j,0.281+0.044j,-0.000+0.000j]\n",
      " [0.281+0.044j,0.044-0.281j,-0.000+0.000j]\n",
      " [-0.000+0.000j,-0.000+0.000j,-0.000+0.000j]]\n",
      "\n",
      "[[0.000-0.000j,0.000-0.000j,0.491+0.106j]\n",
      " [0.000-0.000j,0.000-0.000j,0.106-0.491j]\n",
      " [0.491+0.106j,0.106-0.491j,0.000-0.000j]]\n",
      "\n",
      "[[       0.001,      -0.000,      -0.000]\n",
      " [      -0.000,       0.001,      -0.000]\n",
      " [      -0.000,      -0.000,      -0.002]]\n",
      "\n",
      "[[0.000+0.000j,0.000+0.000j,0.491-0.106j]\n",
      " [0.000+0.000j,0.000+0.000j,0.106+0.491j]\n",
      " [0.491-0.106j,0.106+0.491j,0.000+0.000j]]\n",
      "\n",
      "[[-0.044-0.281j,0.281-0.044j,0.000-0.000j]\n",
      " [0.281-0.044j,0.044+0.281j,0.000-0.000j]\n",
      " [0.000-0.000j,0.000-0.000j,0.000-0.000j]]\n",
      "\n"
     ]
    }
   ],
   "source": [
    "for key,value in funs.items():\n",
    "    print(f'A{key} components:')\n",
    "    for fun in value.values():\n",
    "        Ac=fun(Ai)\n",
    "        out='[['\n",
    "        for k,Ac0 in enumerate(Ac):\n",
    "            out+=','.join([f'{Ac00:12.3f}' for Ac00 in Ac0])+']'\n",
    "            out+=']\\n' if k==2 else '\\n ['\n",
    "        print(out)\n",
    "        "
   ]
  },
  {
   "cell_type": "markdown",
   "id": "0c235933",
   "metadata": {},
   "source": [
    "As a quick check, we sum together all components to verify that they are equal to the original matrix"
   ]
  },
  {
   "cell_type": "code",
   "execution_count": 294,
   "id": "0a7eacbf",
   "metadata": {},
   "outputs": [
    {
     "name": "stdout",
     "output_type": "stream",
     "text": [
      "[[-1.11022302e-16+0.j  1.11022302e-16+0.j  0.00000000e+00+0.j]\n",
      " [ 0.00000000e+00+0.j -1.11022302e-16+0.j  0.00000000e+00+0.j]\n",
      " [ 0.00000000e+00+0.j  0.00000000e+00+0.j  0.00000000e+00+0.j]]\n"
     ]
    }
   ],
   "source": [
    "Ai_check=np.sum([np.sum([f(Ai) for f in fun.values()],axis=0) for fun in funs.values()],axis=0)\n",
    "print(Ai-Ai_check)"
   ]
  },
  {
   "cell_type": "markdown",
   "id": "d4ccbe99",
   "metadata": {},
   "source": [
    "Now that we have the decomposition, we investigate their behavior under rotation about the *z*-axis. We'll rotate by some random angle, $\\phi$, and show that for each component, the value after rotation is $\\mathbf{A}_{\\zeta}^{m}=e^{-i\\phi m}\\mathbf{A}_{\\zeta}^{m}$. We'll just run the rotation directly and via multiplication."
   ]
  },
  {
   "cell_type": "code",
   "execution_count": 295,
   "id": "ebad290b",
   "metadata": {},
   "outputs": [
    {
     "name": "stdout",
     "output_type": "stream",
     "text": [
      "phi = 292.9 degrees\n"
     ]
    }
   ],
   "source": [
    "phi=np.random.rand()*2*np.pi\n",
    "print(f'phi = {phi*180/np.pi:.1f} degrees')"
   ]
  },
  {
   "cell_type": "code",
   "execution_count": 296,
   "id": "dc507043",
   "metadata": {},
   "outputs": [
    {
     "name": "stdout",
     "output_type": "stream",
     "text": [
      "Aiso components:\n",
      "[[          0.793,          0.000,          0.000]\t [   0.793+0.000j,   0.000+0.000j,   0.000+0.000j]\n",
      " [          0.000,          0.793,          0.000]\t [   0.000+0.000j,   0.793+0.000j,   0.000+0.000j]\n",
      " [          0.000,          0.000,          0.793]]\t   0.000+0.000j,   0.000+0.000j,   0.793+0.000j]]\n",
      "\n",
      "Aanti components:\n",
      "[[   0.000+0.000j,   0.000+0.000j,   0.017+0.001j]\t [   0.000+0.000j,   0.000+0.000j,  -0.011-0.013j]\n",
      " [   0.000+0.000j,   0.000+0.000j,  -0.001+0.017j]\t [   0.000+0.000j,   0.000+0.000j,   0.013-0.011j]\n",
      " [  -0.017-0.001j,   0.001-0.017j,   0.000+0.000j]]\t   0.011+0.013j,  -0.013+0.011j,   0.000+0.000j]]\n",
      "\n",
      "[[  -0.000+0.000j,  -0.254+0.000j,   0.000+0.000j]\t [   0.000+0.000j,  -0.254+0.000j,   0.000+0.000j]\n",
      " [   0.254+0.000j,  -0.000+0.000j,   0.000+0.000j]\t [   0.254+0.000j,   0.000+0.000j,   0.000+0.000j]\n",
      " [   0.000+0.000j,   0.000+0.000j,   0.000+0.000j]]\t   0.000+0.000j,   0.000+0.000j,   0.000+0.000j]]\n",
      "\n",
      "[[   0.000+0.000j,   0.000+0.000j,   0.017-0.001j]\t [  -0.000+0.000j,  -0.000+0.000j,  -0.011+0.013j]\n",
      " [   0.000+0.000j,   0.000+0.000j,  -0.001-0.017j]\t [  -0.000+0.000j,  -0.000+0.000j,   0.013+0.011j]\n",
      " [  -0.017+0.001j,   0.001+0.017j,   0.000+0.000j]]\t   0.011-0.013j,  -0.013-0.011j,  -0.000+0.000j]]\n",
      "\n",
      "Asym components:\n",
      "[[   0.232-0.164j,  -0.164-0.232j,   0.000+0.000j]\t [   0.232-0.164j,  -0.164-0.232j,   0.000+0.000j]\n",
      " [  -0.164-0.232j,  -0.232+0.164j,   0.000+0.000j]\t [  -0.164-0.232j,  -0.232+0.164j,   0.000+0.000j]\n",
      " [   0.000+0.000j,   0.000+0.000j,   0.000+0.000j]]\t   0.000+0.000j,   0.000+0.000j,   0.000+0.000j]]\n",
      "\n",
      "[[   0.000+0.000j,   0.000+0.000j,   0.288-0.411j]\t [   0.000-0.000j,   0.000-0.000j,   0.288-0.411j]\n",
      " [   0.000+0.000j,   0.000+0.000j,  -0.411-0.288j]\t [   0.000-0.000j,   0.000-0.000j,  -0.411-0.288j]\n",
      " [   0.288-0.411j,  -0.411-0.288j,   0.000+0.000j]]\t   0.288-0.411j,  -0.411-0.288j,   0.000-0.000j]]\n",
      "\n",
      "[[          0.001,          0.000,          0.000]\t [   0.001+0.000j,  -0.000+0.000j,  -0.000+0.000j]\n",
      " [          0.000,          0.001,          0.000]\t [  -0.000+0.000j,   0.001+0.000j,  -0.000+0.000j]\n",
      " [          0.000,          0.000,         -0.002]]\t  -0.000+0.000j,  -0.000+0.000j,  -0.002+0.000j]]\n",
      "\n",
      "[[   0.000+0.000j,   0.000+0.000j,   0.288+0.411j]\t [   0.000+0.000j,   0.000+0.000j,   0.288+0.411j]\n",
      " [   0.000+0.000j,   0.000+0.000j,  -0.411+0.288j]\t [   0.000+0.000j,   0.000+0.000j,  -0.411+0.288j]\n",
      " [   0.288+0.411j,  -0.411+0.288j,   0.000+0.000j]]\t   0.288+0.411j,  -0.411+0.288j,   0.000+0.000j]]\n",
      "\n",
      "[[   0.232+0.164j,  -0.164+0.232j,   0.000+0.000j]\t [   0.232+0.164j,  -0.164+0.232j,   0.000+0.000j]\n",
      " [  -0.164+0.232j,  -0.232-0.164j,   0.000+0.000j]\t [  -0.164+0.232j,  -0.232-0.164j,   0.000+0.000j]\n",
      " [   0.000+0.000j,   0.000+0.000j,   0.000+0.000j]]\t   0.000+0.000j,   0.000+0.000j,   0.000+0.000j]]\n",
      "\n"
     ]
    }
   ],
   "source": [
    "for key,value in funs.items():\n",
    "    print(f'A{key} components:')\n",
    "    for m,fun in value.items():\n",
    "        Arot_dir=Rz(phi)@fun(Ai)@Rz(-phi)\n",
    "        Arot_mul=fun(Ai)*np.exp(-1j*phi*m)\n",
    "        out='[['\n",
    "        for k,(Ad0,Am0) in enumerate(zip(Arot_dir,Arot_mul)):\n",
    "            out+=','.join([f'{A00:15.3f}' for A00 in Ad0])+']'\n",
    "            out+=']\\t' if k==2 else '\\t ['\n",
    "            \n",
    "            out+=','.join([f'{A00:15.3f}' for A00 in Am0])+']'\n",
    "            out+=']\\n' if k==2 else '\\n ['\n",
    "        print(out)"
   ]
  },
  {
   "cell_type": "markdown",
   "id": "ca5b0f88",
   "metadata": {},
   "source": [
    "Indeed, the rotation of the individual components about the *z*-axis can be expressed as a simple multiplication by $e^{im\\phi}$"
   ]
  },
  {
   "cell_type": "markdown",
   "id": "75449c9b",
   "metadata": {},
   "source": [
    "## Working with Spherical Tensor Components"
   ]
  },
  {
   "cell_type": "markdown",
   "id": "ccc04d1c",
   "metadata": {},
   "source": [
    "Rather than carrying around 9 different matrices to rotate our components, we instead simply use the coefficient of each matrix, so that we only require these 9 values. Note that rather than call the parts \"isotropic\", \"antisymmetric\" and \"symmetric\", we often call them the rank-0, rank-1, and rank-2 parts, where the rank refers to the maximum ratio of modulation to the rotation rate."
   ]
  },
  {
   "cell_type": "code",
   "execution_count": 297,
   "id": "772d6897",
   "metadata": {},
   "outputs": [
    {
     "name": "stdout",
     "output_type": "stream",
     "text": [
      "\n",
      "iso:\n",
      "\n",
      "0\t:\t-1.373\t\n",
      "\n",
      "anti:\n",
      "\n",
      "-1\t:\t0.015-0.031j\t\n",
      "0\t:\t0.000+0.360j\t\n",
      "1\t:\t0.015+0.031j\t\n",
      "\n",
      "sym:\n",
      "\n",
      "-2\t:\t-0.089+0.562j\t\n",
      "-1\t:\t-0.982-0.212j\t\n",
      "0\t:\t-0.003\t\n",
      "1\t:\t0.982-0.212j\t\n",
      "2\t:\t-0.089-0.562j\t\n"
     ]
    }
   ],
   "source": [
    "A={key:{m:f(Ai) for m,f in fun0.items()} for key,fun0 in funsA.items()}\n",
    "for key,value in A.items():\n",
    "    print(f'\\n{key}:\\n')\n",
    "    for k,v in value.items():\n",
    "        print(f'{k}\\t:\\t{v:.3f}\\t')"
   ]
  },
  {
   "cell_type": "markdown",
   "id": "acee48d0",
   "metadata": {},
   "source": [
    "The above values are extracted by projecting the matrices onto $\\mathbf{A}$. However, we can also get them based on the following definitions, where \\mathbf{A} is given as follows:\n",
    "\\begin{equation}\n",
    "\\mathbf{A}=\\begin{pmatrix}a_{xx}&a_{xy}&a_{xz}\\\\a_{yx}&a_{yy}&a_{yz}\\\\a_{zx}&a_{zy}&a_{zz}\\end{pmatrix}\n",
    "\\end{equation}\n",
    "Then, the amplitudes of the spherical components are given by\n",
    "\\begin{eqnarray}\n",
    "A_{0,0}&=&-\\frac{1}{\\sqrt{3}}(a_{xx}+a_{yy}+a_{zz}) \\\\\n",
    "A_{1,0}&=&-\\frac{i}{\\sqrt{2}}(a_{xy}-a_{yx}) \\\\\n",
    "A_{1,\\pm1}&=&-\\frac12(a_{zx}-a_{xz}\\pm i(a_{zy}-a_{yz})) \\\\\n",
    "A_{2,0}&=&\\frac{1}{\\sqrt{6}}(3a_{zz}-(a_{xx}+a_{yy}+a_{zz}) \\\\\n",
    "A_{2,\\pm1}&=&\\mp\\frac12(a_{xz}+a_{zx}\\pm i(a_{yz}+a_{zy})) \\\\\n",
    "A_{2,\\pm2}&=&\\frac12(a_{xx}-a_{yy}\\pm i(a_{xy}+a_{yx})\n",
    "\\end{eqnarray}"
   ]
  },
  {
   "cell_type": "markdown",
   "id": "d8a56f61",
   "metadata": {},
   "source": [
    "Then, we can check our values from above:"
   ]
  },
  {
   "cell_type": "code",
   "execution_count": 301,
   "id": "a171dcc6",
   "metadata": {},
   "outputs": [
    {
     "name": "stdout",
     "output_type": "stream",
     "text": [
      "A_(0,0)=-1.373\n",
      "\n",
      "A_(1,-1)=0.015-0.031j\n",
      "A_(1,0)=0.000+0.360j\n",
      "A_(1,1)=0.015+0.031j\n",
      "\n",
      "A_(2,-2)=-0.089-0.562j\n",
      "A_(2,-1)=-0.982+0.212j\n",
      "A_(2,0)=-0.003\n",
      "A_(2,1)=-0.982+0.212j\n",
      "A_(2,2)=-0.089+0.562j\n"
     ]
    }
   ],
   "source": [
    "print(f'A_(0,0)={-1/np.sqrt(3)*(Ai[0,0]+Ai[1,1]+Ai[2,2]):.3f}\\n')\n",
    "print(f'A_(1,-1)={-0.5*(Ai[2,0]-Ai[0,2]-1j*(Ai[2,1]-Ai[1,2])):.3f}')\n",
    "print(f'A_(1,0)={-1j/np.sqrt(2)*(Ai[0,1]-Ai[1,0]):.3f}')\n",
    "print(f'A_(1,1)={-0.5*(Ai[2,0]-Ai[0,2]+1j*(Ai[2,1]-Ai[1,2])):.3f}\\n')\n",
    "print(f'A_(2,-2)={0.5*(Ai[0,0]-Ai[1,1]-1j*(Ai[0,1]+Ai[1,0])):.3f}')\n",
    "print(f'A_(2,-1)={-0.5*(Ai[0,2]+Ai[2,0]-1j*(Ai[1,2]+Ai[2,1])):.3f}')\n",
    "print(f'A_(2,0)={1/np.sqrt(6)*(3*Ai[2,2]-(Ai[0,0]+Ai[1,1]+Ai[2,2])):.3f}')\n",
    "print(f'A_(2,1)={-0.5*(Ai[0,2]+Ai[2,0]-1j*(Ai[1,2]+Ai[2,1])):.3f}')\n",
    "print(f'A_(2,2)={0.5*(Ai[0,0]-Ai[1,1]+1j*(Ai[0,1]+Ai[1,0])):.3f}')"
   ]
  },
  {
   "cell_type": "markdown",
   "id": "eced1c78",
   "metadata": {},
   "source": [
    "## Rotational components of CSA under MAS\n",
    "Suppose we have a CSA with anisotropy, $\\delta$, asymmetry, $\\eta$, euler angles (PAS to rotor frame) ($\\alpha$,$\\beta$,$\\gamma$) and isotropic value, $\\overline{a}$. What are the rotating components, $A_n$, from which we can construct the CSA Hamiltonian in the rotating frame (high-field approximation):\n",
    "\\begin{equation}\n",
    "H_{CSA}=\\sum\\limits_{l=0}^2{\\sum\\limits_{n=-2}^2{e^{-in\\omega_rt}A_n^{l}\\mathscr{T}_{l,0}}}\n",
    "\\end{equation}"
   ]
  },
  {
   "cell_type": "code",
   "execution_count": 308,
   "id": "43f3fe8b",
   "metadata": {},
   "outputs": [],
   "source": [
    "delta=100  #ppm\n",
    "eta=.4\n",
    "iso=180    #ppm\n",
    "alpha,beta,gamma=np.random.rand(3)*np.pi"
   ]
  },
  {
   "cell_type": "markdown",
   "id": "379c91e3",
   "metadata": {},
   "source": [
    "First, we need to get the spherical tensor in its principal axis system (PAS). For this, we use the following formulas:\n",
    "\\begin{eqnarray}\n",
    "A_{0,0}&=&-\\sqrt{3}\\overline{a} \\\\\n",
    "A_{2,0}&=&\\sqrt{\\frac32}\\delta \\\\\n",
    "A_{2,\\pm1}&=&0 \\\\\n",
    "A_{2,\\pm2}&=&-\\frac12\\delta\\eta\n",
    "\\end{eqnarray}"
   ]
  },
  {
   "cell_type": "code",
   "execution_count": 312,
   "id": "e5e52d6b",
   "metadata": {},
   "outputs": [
    {
     "name": "stdout",
     "output_type": "stream",
     "text": [
      "-311.7691453623979\n",
      "[-20.        +0.j   0.        +0.j 122.47448714+0.j   0.        +0.j\n",
      " -20.        +0.j]\n"
     ]
    }
   ],
   "source": [
    "A00=-np.sqrt(3)*iso\n",
    "A2PAS=np.array([-0.5*delta*eta,0,np.sqrt(3/2)*delta,0,-0.5*delta*eta],dtype=complex)  #Store in a complex array\n",
    "print(A00)\n",
    "print(A2PAS)"
   ]
  },
  {
   "cell_type": "markdown",
   "id": "cc261790",
   "metadata": {},
   "source": [
    "Next, we need to rotate the A2 terms into the rotor frame by the Euler angles. For this, we need the functions $d_{m',m}^2(\\beta)$ and $D_{m',m}^2(\\alpha,\\beta,\\gamma)$ in our code"
   ]
  },
  {
   "cell_type": "code",
   "execution_count": 313,
   "id": "b9aab64d",
   "metadata": {},
   "outputs": [],
   "source": [
    "def d2(beta,mp,m):\n",
    "    c,s=np.cos(beta),np.sin(beta)\n",
    "    if mp==-2:\n",
    "        if m==-2:x=0.25*(1+c)**2\n",
    "        if m==-1:x=0.5*(1+c)*s\n",
    "        if m==0:x=np.sqrt(3/8)*s**2\n",
    "        if m==1:x=0.5*(1-c)*s\n",
    "        if m==2:x=0.25*(1-c)**2\n",
    "    if mp==-1:\n",
    "        if m==-2:x=-0.5*(1+c)*s\n",
    "        if m==-1:x=c**2-0.5*(1-c)\n",
    "        if m==0:x=np.sqrt(3/8)*2*c*s\n",
    "        if m==1:x=0.5*(1+c)-c**2\n",
    "        if m==2:x=0.5*(1-c)*s\n",
    "    if mp==0:\n",
    "        if m==-2:x=np.sqrt(3/8)*s**2\n",
    "        if m==-1:x=-np.sqrt(3/8)*2*s*c\n",
    "        if m==0:x=0.5*(3*c**2-1)\n",
    "        if m==1:x=np.sqrt(3/8)*2*s*c\n",
    "        if m==2:x=np.sqrt(3/8)*s**2\n",
    "    if mp==1:\n",
    "        if m==-2:x=-0.5*(1-c)*s\n",
    "        if m==-1:x=0.5*(1+c)-c**2\n",
    "        if m==0:x=-np.sqrt(3/8)*2*s*c\n",
    "        if m==1:x=c**2-0.5*(1-c)\n",
    "        if m==2:x=0.5*(1+c)*s\n",
    "    if mp==2:\n",
    "        if m==-2:x=0.25*(1-c)**2\n",
    "        if m==-1:x=-0.5*(1-c)*s\n",
    "        if m==0:x=np.sqrt(3/8)*s**2\n",
    "        if m==1:x=-0.5*(1+c)*s\n",
    "        if m==2:x=0.25*(1+c)**2\n",
    "    return x"
   ]
  },
  {
   "cell_type": "markdown",
   "id": "b0be3df0",
   "metadata": {},
   "source": [
    "Recall that $D^2_{m',m}(\\alpha,\\beta,\\gamma)=e^{-im\\gamma}d^2_{m',m}(\\beta)e^{-im'\\alpha}$"
   ]
  },
  {
   "cell_type": "code",
   "execution_count": 314,
   "id": "c68ebcf3",
   "metadata": {},
   "outputs": [],
   "source": [
    "D2=lambda alpha,beta,gamma,mp,m:np.exp(-1j*m*gamma)*d2(beta,mp,m)*np.exp(-1j*mp*alpha)"
   ]
  },
  {
   "cell_type": "markdown",
   "id": "d92c23e4",
   "metadata": {},
   "source": [
    "For each term in the rotor frame, we need to sum over all components of the tensor in the PAS ($m'$) multiplied by $D_{m',m}^2$"
   ]
  },
  {
   "cell_type": "code",
   "execution_count": 317,
   "id": "6da2b073",
   "metadata": {},
   "outputs": [
    {
     "name": "stdout",
     "output_type": "stream",
     "text": [
      "[-69.6976387 -14.4309062j  -15.94210752-42.47334659j\n",
      " -39.39167786 +0.j          15.94210752-42.47334659j\n",
      " -69.6976387 +14.4309062j ]\n"
     ]
    }
   ],
   "source": [
    "A2RF=np.zeros(5,dtype=complex)  #Storage for components in the rotor frame\n",
    "for m in range(-2,3):   #Loop over all final components, m\n",
    "    for mp in range(-2,3):  #Loop over all initial components mp\n",
    "        A2RF[m+2]+=D2(alpha,beta,gamma,mp,m)*A2PAS[mp+2]   #Cumulative sum over contributions from 5 components\n",
    "print(A2RF)"
   ]
  },
  {
   "cell_type": "markdown",
   "id": "9d5f1405",
   "metadata": {},
   "source": [
    "Then, we need the components in the lab frame, which requires rotation about the *y*-axis by -54.74$^\\circ$, i.e. the magic angle. Since we will assume the high-field approximation, we only calculate the $A_{2,0}^\\mathrm{LAB}$  component (set $m=0$)"
   ]
  },
  {
   "cell_type": "code",
   "execution_count": 319,
   "id": "0a1ec2f4",
   "metadata": {},
   "outputs": [
    {
     "name": "stdout",
     "output_type": "stream",
     "text": [
      "(-38.499523561882086+4.440892098500626e-15j)\n"
     ]
    }
   ],
   "source": [
    "A20LAB=0\n",
    "phi_m=np.arccos(np.sqrt(1/3))\n",
    "for mp in range(-2,3): #Loop over all initial components\n",
    "    A20LAB+=d2(-phi_m,mp=mp,m=0)*A2RF[mp+2]\n",
    "print(A20LAB)"
   ]
  },
  {
   "cell_type": "markdown",
   "id": "3c636430",
   "metadata": {},
   "source": [
    "This term goes with the rank-2 spin-part of the spherical tensor, whereas the isotropic term, $A_{0,0}$ goes with the rank-0 spin-part of the spherical tensor, such that the Hamiltonian is:\n",
    "\\begin{equation}\n",
    "H_{CSA}=A_{0,0}\\left(-\\frac{1}{\\sqrt{3}}I_z\\right)+\\sum\\limits_{n=-2}^2{e^{-in\\omega_rt}A_n\\left(\\sqrt{\\frac23}I_z\\right)}\n",
    "\\end{equation}"
   ]
  },
  {
   "cell_type": "markdown",
   "id": "8f928140",
   "metadata": {},
   "source": [
    "For simpler notation, one may divide $A_{0,0}$ by $-\\sqrt{2}$ and add to to $A_0$, allowing us to drop the first term above"
   ]
  },
  {
   "cell_type": "code",
   "execution_count": null,
   "id": "4cc83674",
   "metadata": {},
   "outputs": [],
   "source": []
  }
 ],
 "metadata": {
  "kernelspec": {
   "display_name": "Python 3",
   "language": "python",
   "name": "python3"
  },
  "language_info": {
   "codemirror_mode": {
    "name": "ipython",
    "version": 3
   },
   "file_extension": ".py",
   "mimetype": "text/x-python",
   "name": "python",
   "nbconvert_exporter": "python",
   "pygments_lexer": "ipython3",
   "version": "3.7.3"
  }
 },
 "nbformat": 4,
 "nbformat_minor": 5
}
