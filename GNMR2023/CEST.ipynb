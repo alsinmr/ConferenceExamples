{
 "cells": [
  {
   "cell_type": "markdown",
   "id": "4ddd5b7c",
   "metadata": {},
   "source": [
    "[<img src=\"https://colab.research.google.com/assets/colab-badge.svg\">](https://githubtocolab.com/alsinmr/ConferenceExamples/blob/master/GNMR2023/CEST.ipynb)"
   ]
  },
  {
   "cell_type": "markdown",
   "id": "e0687262",
   "metadata": {},
   "source": [
    "# Chemical Exchange Saturation Transfer (CEST)"
   ]
  },
  {
   "cell_type": "markdown",
   "id": "f92703e1",
   "metadata": {},
   "source": [
    "In this notebook, we investigate the CEST experiment, first assuming only isotropic interactions (solution-state), and then also including influence from CSA."
   ]
  },
  {
   "cell_type": "code",
   "execution_count": null,
   "id": "f5f723e0",
   "metadata": {},
   "outputs": [],
   "source": [
    "!git clone https://github.com/alsinmr/ConferenceExamples.git\n",
    "%cd /content/ConferenceExamples/GNMR2023\n",
    "import setup"
   ]
  },
  {
   "cell_type": "code",
   "execution_count": null,
   "id": "de88b88a",
   "metadata": {},
   "outputs": [],
   "source": [
    "#Sometimes, there is a delay between setup finishing and being able to complete the module loads\n",
    "from importlib.machinery import SourceFileLoader\n",
    "RS = SourceFileLoader(\"pyRelaxSim\", \"/content/pyRelaxSim/__init__.py\").load_module()\n",
    "import numpy as np\n",
    "import matplotlib.pyplot as plt"
   ]
  },
  {
   "cell_type": "code",
   "execution_count": 1,
   "id": "a3ed5fc1",
   "metadata": {},
   "outputs": [],
   "source": [
    "import sys\n",
    "sys.path.append('/Users/albertsmith/Documents/GitHub.nosync')\n",
    "sys.path.append('/Users/albertsmith/Documents/GitHub')\n",
    "import pyRelaxSim as RS\n",
    "import numpy as np\n",
    "import matplotlib.pyplot as plt"
   ]
  },
  {
   "cell_type": "markdown",
   "id": "d7926839",
   "metadata": {},
   "source": [
    "## Build the spin system"
   ]
  },
  {
   "cell_type": "code",
   "execution_count": 2,
   "id": "4b6b174b",
   "metadata": {},
   "outputs": [],
   "source": [
    "ex0=RS.ExpSys(v0H=600,Nucs='13C',T_K=298) #We need a description of the experiment for both states (ex0, ex1)\n",
    "ex1=ex0.copy()\n",
    "ex0.set_inter(Type='CS',i=0,ppm=-7)\n",
    "ex1.set_inter(Type='CS',i=0,ppm=7)"
   ]
  },
  {
   "cell_type": "markdown",
   "id": "a534ea71",
   "metadata": {},
   "source": [
    "## Build the Liouvillian\n",
    "For CEST to work, we need to be able saturate the spins, which requires T2 relaxation. For a more realistic behavior, we also include T1 recovery of the magnetization, which can inhibit the saturation."
   ]
  },
  {
   "cell_type": "code",
   "execution_count": 3,
   "id": "28a95966",
   "metadata": {},
   "outputs": [],
   "source": [
    "L=RS.Liouvillian((ex0,ex1))  #Builds the two different Hamiltonians and exports them to Liouville space\n",
    "\n",
    "tc=1e-3     #Correlation time\n",
    "p1=0.95  #Population of state 1\n",
    "p2=1-p1  #Population of state 2\n",
    "\n",
    "kex=1/(2*tc)*(np.array([[-1,1],[1,-1]])+(p1-p2)*np.array([[1,1],[-1,-1]]))   #Exchange matrix\n",
    "L.kex=kex    #Add exchange to the Liouvillian\n",
    "\n",
    "L.add_relax(Type='T1',i=0,T1=1.5,Peq=True)   #Add T1 relaxation to the system\n",
    "L.add_relax(Type='T2',i=0,T2=.05)             #Add T2 relaxation to the system"
   ]
  },
  {
   "cell_type": "markdown",
   "id": "f69ec89f",
   "metadata": {},
   "source": [
    "## Calculate the required propagators\n",
    "We'll simulate this system by starting with magnetization along the z-axis and saturating at some frequency. After the saturation period, we'll apply a $\\pi/2$ pulse along the y-axis to get x-magnetization. This will be allowed to evolve, and Fourier transformed. We can then integrate the main peak to determine the amount of saturation that has occured."
   ]
  },
  {
   "cell_type": "code",
   "execution_count": 4,
   "id": "ca8bd37a",
   "metadata": {},
   "outputs": [],
   "source": [
    "Usat=list()   #We'll pre-calculate the propagators for saturation\n",
    "voff0=np.linspace(-20,20,500)*ex0.v0[0]/1e6     #5 ppm*150 MHz / 1e6 =750 Hz\n",
    "seq=L.Sequence()    #Makes a sequence, which lets us add pulses with user-specified timinig\n",
    "for voff in voff0:\n",
    "    seq.add_channel('13C',t=[0,.5],v1=25,voff=voff)  #500 ms saturation, 25 Hz strength\n",
    "    Usat.append(seq.U())\n",
    "    \n",
    "seq=L.Sequence()   #Usually it's a better idea to re-initialize the sequence object for new pulses\n",
    "seq.add_channel('13C',t=[0,2.5e-6],v1=100000,phase=np.pi/2) \n",
    "Upi2=seq.U()     #Propagator to apply the pi/2 pulse\n",
    "Dt=1/(4*10*150)  #For a 10 ppm shift difference, this should be enough to easily capture both peaks in the spectrum \n",
    "Uevol=L.U(Dt=Dt)  #Propagator for evolving the spin system"
   ]
  },
  {
   "cell_type": "markdown",
   "id": "89873027",
   "metadata": {},
   "source": [
    "## Run the sequence, with sweep over $\\nu_1$\n",
    "First, we generate the initial magnetization and the detection operator. Then, at each value of $\\nu_1$, we reset the detection operator, followed by saturation (U taken out of Usat), apply the $\\pi/2$ pulse (Upi2), and finally detect with Uevol. We store the Fourier-transformed signal in spec."
   ]
  },
  {
   "cell_type": "code",
   "execution_count": 5,
   "id": "12584bf7",
   "metadata": {},
   "outputs": [],
   "source": [
    "rho=RS.Rho(rho0='13Cz',detect='13Cp')\n",
    "spec=list()\n",
    "for U in Usat:\n",
    "    rho.clear()\n",
    "    Upi2*U*rho\n",
    "    rho.DetProp(Uevol,n=1024)\n",
    "    spec.append(rho.FT[0].real)"
   ]
  },
  {
   "cell_type": "markdown",
   "id": "a8517a47",
   "metadata": {},
   "source": [
    "## Plot one of the spectra\n",
    "In order to see the usefulness of this techique, we once plot the spectrum to show that the weaker peak is nearly invisible. We just take the last spectrum that is still stored in rho. The second peak is weakly visible if we zoom in around 5 ppm (but would be quite difficult to see in a real spectrum)."
   ]
  },
  {
   "cell_type": "code",
   "execution_count": 6,
   "id": "afc86042",
   "metadata": {},
   "outputs": [
    {
     "data": {
      "image/png": "[encoded data removed]",
      "text/plain": [
       "<Figure size 432x288 with 1 Axes>"
      ]
     },
     "metadata": {
      "needs_background": "light"
     },
     "output_type": "display_data"
    }
   ],
   "source": [
    "ax=rho.plot(FT=True,imag=False,axis='ppm')\n",
    "_=ax.set_yticklabels('')"
   ]
  },
  {
   "cell_type": "markdown",
   "id": "5315d50e",
   "metadata": {},
   "source": [
    "## Integrate spectrum for all values of $\\nu_1$ and plot results\n",
    "We will just integrate over the strong peak"
   ]
  },
  {
   "cell_type": "code",
   "execution_count": 7,
   "id": "5073de40",
   "metadata": {},
   "outputs": [
    {
     "data": {
      "image/png": "[encoded data removed]",
      "text/plain": [
       "<Figure size 432x288 with 1 Axes>"
      ]
     },
     "metadata": {
      "needs_background": "light"
     },
     "output_type": "display_data"
    }
   ],
   "source": [
    "spec=np.array(spec)   #Convert to a numpy array\n",
    "I=spec[:,400:620].sum(1)  #Integrate over the main peak\n",
    "\n",
    "ax=plt.subplots()[1]\n",
    "ax.plot(voff0*1e6/ex0.v0[0],I)\n",
    "ax.set_xlabel(r'$\\nu_{off}$ / ppm')\n",
    "ax.set_ylabel('I / a.u.')\n",
    "ax.invert_xaxis()"
   ]
  },
  {
   "cell_type": "markdown",
   "id": "f3c92942",
   "metadata": {},
   "source": [
    "## Investigate CEST as a function of exchange rate\n",
    "We repeat the above setup, just varying the exchange rates"
   ]
  },
  {
   "cell_type": "code",
   "execution_count": null,
   "id": "9bd6f66f",
   "metadata": {},
   "outputs": [],
   "source": [
    "p1=0.95  #Population of state 1\n",
    "p2=1-p1  #Population of state 2\n",
    "\n",
    "tc0=np.logspace(0,-5.5,12)\n",
    "I=list()\n",
    "for tc in tc0:\n",
    "    kex=1/(2*tc)*(np.array([[-1,1],[1,-1]])+(p1-p2)*np.array([[1,1],[-1,-1]]))   #Exchange matrix\n",
    "    L.kex=kex    #Add exchange to the Liouvillian\n",
    "    \n",
    "    Usat=list()   #We'll pre-calculate the propagators for saturation\n",
    "    voff0=np.linspace(-20,20,500)*ex0.v0[0]/1e6     #5 ppm*150 MHz / 1e6 =750 Hz\n",
    "    seq=L.Sequence()    #Makes a sequence, which lets us add pulses with user-specified timinig\n",
    "    for voff in voff0:\n",
    "        seq.add_channel('13C',t=[0,.5],v1=25,voff=voff)  #500 ms saturation, 25 Hz strength\n",
    "        Usat.append(seq.U().calcU()) \n",
    "        #Propagtors do not automatically get calculated. In this case, \n",
    "        \n",
    "\n",
    "    seq=L.Sequence()   #Usually it's a better idea to re-initialize the sequence object for new pulses\n",
    "    seq.add_channel('13C',t=[0,2.5e-6],v1=100000,phase=np.pi/2) \n",
    "    Upi2=seq.U()     #Propagator to apply the pi/2 pulse\n",
    "    Dt=1/(4*10*150)  #For a 10 ppm shift difference, this should be enough to easily capture both peaks in the spectrum \n",
    "    Uevol=L.U(Dt=Dt)  #Propagator for evolving the spin system\n",
    "\n",
    "    rho=RS.Rho(rho0='13Cz',detect='13Cp')\n",
    "    spec=list()\n",
    "    for U in Usat:\n",
    "        rho.clear()\n",
    "        Upi2*U*rho\n",
    "        rho.DetProp(Uevol,n=1024)\n",
    "        spec.append(rho.FT[0].real)\n",
    "\n",
    "    spec=np.array(spec)   #Convert to a numpy array\n",
    "    I.append(spec[:,400:620].sum(1))  #Integrate over the main peak"
   ]
  },
  {
   "cell_type": "markdown",
   "id": "fafe70cc",
   "metadata": {},
   "source": [
    "Plot the results"
   ]
  },
  {
   "cell_type": "code",
   "execution_count": null,
   "id": "d8e99520",
   "metadata": {},
   "outputs": [],
   "source": [
    "fig,ax=plt.subplots(3,4)\n",
    "ax=ax.reshape(ax.size)\n",
    "\n",
    "for a,I0,tc in zip(ax,I,tc0):\n",
    "    a.plot(voff0*1e6/ex0.v0[0],I0)\n",
    "    if a.get_subplotspec().is_last_row():\n",
    "        a.set_xlabel(r'$\\nu_{off}$ / ppm')\n",
    "    if a.get_subplotspec().is_first_col():\n",
    "        a.set_ylabel('I / a.u.')\n",
    "    a.invert_xaxis()\n",
    "    a.set_yticklabels('')\n",
    "    a.set_ylim([0,a.get_ylim()[1]])\n",
    "    a.text(20,a.get_ylim()[1]*.05,r'$\\tau_c$'+f' = \\n{tc:.1e} s')\n",
    "fig.set_size_inches([8,6])\n",
    "fig.tight_layout()"
   ]
  },
  {
   "cell_type": "markdown",
   "id": "fbcc2f82",
   "metadata": {},
   "source": [
    "## Does coalescence occur for the same correlation time in CEST as in 1D spectra?\n",
    "We set up the same system, but just calculate a 1D spectrum"
   ]
  },
  {
   "cell_type": "code",
   "execution_count": null,
   "id": "85a12773",
   "metadata": {},
   "outputs": [],
   "source": [
    "p1=0.95  #Population of state 1\n",
    "p2=1-p1  #Population of state 2\n",
    "\n",
    "tc0=np.logspace(0,-5.5,12)\n",
    "spec=list()\n",
    "for tc in tc0:\n",
    "    kex=1/(2*tc)*(np.array([[-1,1],[1,-1]])+(p1-p2)*np.array([[1,1],[-1,-1]]))   #Exchange matrix\n",
    "    L.kex=kex    #Add exchange to the Liouvillian\n",
    "    Uevol=L.U(Dt=Dt)  #Propagator for evolving the spin system\n",
    "\n",
    "    rho=RS.Rho(rho0='13Cx',detect='13Cp')\n",
    "    rho.DetProp(Uevol,n=1024)\n",
    "    spec.append(rho.FT[0].real)"
   ]
  },
  {
   "cell_type": "markdown",
   "id": "7bc2284b",
   "metadata": {},
   "source": [
    "Plot the results"
   ]
  },
  {
   "cell_type": "code",
   "execution_count": null,
   "id": "f6340d6e",
   "metadata": {},
   "outputs": [],
   "source": [
    "fig,ax=plt.subplots(3,4)\n",
    "ax=ax.reshape(ax.size)\n",
    "\n",
    "for a,spec0,tc in zip(ax,spec,tc0):\n",
    "    a.plot(rho.v_axis*1e6/ex0.v0[0],spec0)\n",
    "    if a.get_subplotspec().is_last_row():\n",
    "        a.set_xlabel(r'$\\delta (^{13}$C) / ppm')\n",
    "    if a.get_subplotspec().is_first_col():\n",
    "        a.set_ylabel('I / a.u.')\n",
    "    a.invert_xaxis()\n",
    "    a.set_yticklabels('')\n",
    "    a.set_ylim([0,spec0.max()*p2/p1*1.1])\n",
    "    a.text(20,a.get_ylim()[1]*.75,r'$\\tau_c$'+f' = \\n{tc:.1e} s')\n",
    "fig.set_size_inches([8,6])\n",
    "fig.tight_layout()"
   ]
  },
  {
   "cell_type": "markdown",
   "id": "5666c227",
   "metadata": {},
   "source": [
    "# What happens in solid-state NMR?\n",
    "We start by building the same system, but we also include MAS and a CSA"
   ]
  },
  {
   "cell_type": "code",
   "execution_count": null,
   "id": "20096688",
   "metadata": {},
   "outputs": [],
   "source": [
    "ex0=RS.ExpSys(v0H=600,vr=5000,Nucs='13C',T_K=298) #We need a description of the experiment for both states (ex0, ex1)\n",
    "ex1=ex0.copy()\n",
    "ex0.set_inter(Type='CS',i=0,ppm=-7)\n",
    "ex1.set_inter(Type='CS',i=0,ppm=7)\n",
    "ex0.set_inter(Type='CSA',i=0,delta=100)\n",
    "ex1.set_inter(Type='CSA',i=0,delta=100,euler=[0,30*np.pi/180,0])\n",
    "\n",
    "L=RS.Liouvillian((ex0,ex1))\n",
    "\n",
    "tc=1e-3     #Correlation time\n",
    "p1=0.95  #Population of state 1\n",
    "p2=1-p1  #Population of state 2\n",
    "\n",
    "kex=1/(2*tc)*(np.array([[-1,1],[1,-1]])+(p1-p2)*np.array([[1,1],[-1,-1]]))   #Exchange matrix\n",
    "L.kex=kex    #Add exchange to the Liouvillian"
   ]
  },
  {
   "cell_type": "markdown",
   "id": "6b0fad02",
   "metadata": {},
   "source": [
    "## Calculate the required propagators"
   ]
  },
  {
   "cell_type": "code",
   "execution_count": null,
   "id": "dc4cc740",
   "metadata": {},
   "outputs": [],
   "source": [
    "Usat=list()   #We'll pre-calculate the propagators for saturation\n",
    "voff0=np.linspace(-30,30,100)*ex0.v0[0]/1e6     #5 ppm*150 MHz / 1e6 =750 Hz\n",
    "seq=L.Sequence()    #Makes a sequence, which lets us add pulses with user-specified timinig\n",
    "for voff in voff0:\n",
    "    seq.add_channel('13C',t=[0,L.taur],v1=25,voff=voff)  #1 rotor period, 25 Hz strength\n",
    "    L.reset_prop_time()  #Technically not necessary, but probably a good idea\n",
    "    Usat.append(seq.U()**int(0.5/L.taur))   #Approximately 500 ms saturation (for 5 kHz, this is 2500 rotor periods)\n",
    "    \n",
    "seq=L.Sequence()   #Usually it's a better idea to re-initialize the sequence object for new pulses\n",
    "seq.add_channel('13C',t=[0,2.5e-6],v1=100000,phase=np.pi/2) \n",
    "Upi2=seq.U()     #Propagator to apply the pi/2 pulse\n",
    "Dt=1/(4*10*150)  #For a 10 ppm shift difference, this should be enough to easily capture both peaks in the spectrum \n",
    "\n",
    "Uevol=L.U()  #Propagator for evolving the spin system (1 rotor period)\n",
    "seq_evol=L.Sequence() #We'll use this to capture the spectrum including spinning side bands (not for CEST)\n",
    "seq_evol.add_channel('13C',t=[0,L.taur/10])"
   ]
  },
  {
   "cell_type": "markdown",
   "id": "a73574bc",
   "metadata": {},
   "source": [
    "## First, plot the 1D spectrum"
   ]
  },
  {
   "cell_type": "code",
   "execution_count": null,
   "id": "4852ff49",
   "metadata": {},
   "outputs": [],
   "source": [
    "rho=RS.Rho(rho0='13Cx',detect='13Cp')\n",
    "rho.DetProp(seq=seq_evol,n=512)\n",
    "rho.plot(FT=True,imag=False,axis='ppm')"
   ]
  },
  {
   "cell_type": "markdown",
   "id": "61c3f29f",
   "metadata": {},
   "source": [
    "## Run the sequence with sweep over $\\nu_1$"
   ]
  },
  {
   "cell_type": "code",
   "execution_count": null,
   "id": "f9c1d8fa",
   "metadata": {},
   "outputs": [],
   "source": [
    "rho=RS.Rho(rho0='13Cz',detect='13Cp')\n",
    "spec=list()\n",
    "for U in Usat:\n",
    "    rho.clear()\n",
    "    Upi2*U*rho\n",
    "    rho.DetProp(Uevol,n=1024)\n",
    "    spec.append(rho.FT[0].real)"
   ]
  },
  {
   "cell_type": "markdown",
   "id": "f1a97966",
   "metadata": {},
   "source": [
    "## Integrate spectrum for all values of $\\nu_1$ and plot results\n",
    "We will just integrate over the strong peak"
   ]
  },
  {
   "cell_type": "code",
   "execution_count": null,
   "id": "dfcfc28e",
   "metadata": {},
   "outputs": [],
   "source": [
    "spec=np.array(spec)   #Convert to a numpy array\n",
    "I=spec[:,400:620].sum(1)  #Integrate over the main peak\n",
    "\n",
    "ax=plt.subplots()[1]\n",
    "ax.plot(voff0/1e3,I)\n",
    "ax.set_xlabel(r'$\\nu_{off}$ / kHz')\n",
    "ax.set_ylabel('I / a.u.')\n",
    "ax.invert_xaxis()"
   ]
  },
  {
   "cell_type": "markdown",
   "id": "bc505b73",
   "metadata": {},
   "source": [
    "The resulting spectrum has more dips than expected. What has happened is relatively simple– we've saturated the spinning side bands. The larger peak at 4 kHz is the side band of the main peak at -1 kHz, and the peak at -4 kHz is the side band of the low-populated state at 1 kHz. A broader sweep would reveal the full pattern of sidebands from the above spectrum. A simple solution for the sidebands exists: just spin faster."
   ]
  },
  {
   "cell_type": "code",
   "execution_count": null,
   "id": "1398362e",
   "metadata": {},
   "outputs": [],
   "source": []
  }
 ],
 "metadata": {
  "kernelspec": {
   "display_name": "Python 3",
   "language": "python",
   "name": "python3"
  },
  "language_info": {
   "codemirror_mode": {
    "name": "ipython",
    "version": 3
   },
   "file_extension": ".py",
   "mimetype": "text/x-python",
   "name": "python",
   "nbconvert_exporter": "python",
   "pygments_lexer": "ipython3",
   "version": "3.8.8"
  }
 },
 "nbformat": 4,
 "nbformat_minor": 5
}
