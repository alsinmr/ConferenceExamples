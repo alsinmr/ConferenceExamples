{
 "cells": [
  {
   "cell_type": "markdown",
   "id": "5c534a3c",
   "metadata": {},
   "source": [
    "# Parameterizing MD correlation functions"
   ]
  },
  {
   "cell_type": "code",
   "execution_count": 1,
   "id": "5f44761e",
   "metadata": {},
   "outputs": [],
   "source": [
    "# Make sure pyDR is installed and on the path\n",
    "import sys\n",
    "import os\n",
    "if 'google.colab' in sys.modules: #Colab\n",
    "    !git clone https://github.com/alsinmr/pyDR\n",
    "else:\n",
    "    os.chdir('../../..')"
   ]
  },
  {
   "cell_type": "code",
   "execution_count": 63,
   "id": "7c6e88fd",
   "metadata": {},
   "outputs": [],
   "source": [
    "import pyDR\n",
    "from pyDR.Fitting.fit import model_free\n",
    "from pyDR.MDtools import vft\n",
    "from pyDR.misc.tools import linear_ex\n",
    "import numpy as np\n",
    "import matplotlib.pyplot as plt\n",
    "import MDAnalysis as mda\n",
    "from time import time"
   ]
  },
  {
   "cell_type": "code",
   "execution_count": 3,
   "id": "9f42fa26",
   "metadata": {},
   "outputs": [],
   "source": [
    "# Download the trajectory files\n",
    "xtc='https://drive.google.com/file/d/1wq5T-YDmPo2zAIWu9we2zyL2i-v52fnD/view?usp=sharing'\n",
    "pdb='https://drive.google.com/file/d/1aBMUO2C1AZfx05dANl4QITHuqmHbDDsN/view?usp=sharing'\n",
    "\n",
    "if not(os.path.exists('ubi.pdb')):\n",
    "    pyDR.IO.download(pdb,'ubi.pdb')\n",
    "if not(os.path.exists('ubi.xtc')):\n",
    "    pyDR.IO.download(xtc,'ubi.xtc')"
   ]
  },
  {
   "cell_type": "code",
   "execution_count": 4,
   "id": "5a1cf632",
   "metadata": {},
   "outputs": [],
   "source": [
    "def align(uni,fileout='ubi_aligned.xtc',ref_sel='name CA'):\n",
    "    \"\"\"\n",
    "    This function takes a trajectory and aligns it based on\n",
    "    a reference selection of atoms. The new trajectory is\n",
    "    returned in fileout (default is ubi_aligned.xtc)\n",
    "    \"\"\"\n",
    "    \n",
    "    from scipy.linalg import svd\n",
    "    \n",
    "    uni.trajectory[0] #Go to the first frame of the trajectory\n",
    "    atoms=uni.atoms   #All atoms in the trajectory\n",
    "    ref_sel=uni.select_atoms(ref_sel)  #Atom group for the reference\n",
    "    \n",
    "    ref0=ref_sel.positions #initial positions of reference atoms\n",
    "    ref0-=ref0.mean(0) #Centers the initial position\n",
    "    \n",
    "    with mda.Writer(fileout,atoms.n_atoms) as W:\n",
    "        for ts in uni.trajectory:\n",
    "            ref=ref_sel.positions\n",
    "            pos=atoms.positions\n",
    "\n",
    "            pos-=ref.mean(0)   #This centers the reference\n",
    "            ref-=ref.mean(0)   \n",
    "            \n",
    "            H=ref0.T@ref       #3x3 matrix\n",
    "            U,S,Vt=svd(H)      #Singular value decomposition\n",
    "            V=Vt.T             #Transposes\n",
    "            Ut=U.T\n",
    "\n",
    "            R=V@Ut             #Rotation matrix for alignment\n",
    "            \n",
    "            pos_corr=(R.T@pos.T).T\n",
    "            atoms.positions=pos_corr\n",
    "            \n",
    "            W.write(atoms)\n",
    "    return"
   ]
  },
  {
   "cell_type": "code",
   "execution_count": 6,
   "id": "7f3bd14f",
   "metadata": {},
   "outputs": [],
   "source": [
    "uni0=mda.Universe('ubi.pdb','ubi.xtc')\n",
    "if not(os.path.exists('ubi_aligned.xtc')):\n",
    "    align(uni0,fileout='ubi_aligned.xtc')   #Runs the code to align Ubiquitin in the universe\n",
    "uni=mda.Universe('ubi.pdb','ubi_aligned.xtc')  #Loads the aligned trajectory"
   ]
  },
  {
   "cell_type": "code",
   "execution_count": 51,
   "id": "9753e06e",
   "metadata": {},
   "outputs": [
    {
     "name": "stdout",
     "output_type": "stream",
     "text": [
      "Loading Ref. Frames: |██████████████████████████████████████████████████| 100.0% Complete\n",
      "Completed\n",
      "r:MD:ubi_aligned with 72 data points\n",
      "<pyDR.Data.Data.Data object at 0x7fad02007b50>\n"
     ]
    }
   ],
   "source": [
    "proj=pyDR.Project()\n",
    "proj.append_data('https://raw.githubusercontent.com/alsinmr/pyDR_tutorial/main/data/ubi_soln.txt')\n",
    "\n",
    "sel=pyDR.MolSelect(topo='ubi.pdb',traj_files='ubi_aligned.xtc',project=proj)\n",
    "sel.select_bond('15N')\n",
    "pyDR.md2data(sel)\n"
   ]
  },
  {
   "cell_type": "code",
   "execution_count": 56,
   "id": "7cd2c1b5",
   "metadata": {},
   "outputs": [
    {
     "name": "stdout",
     "output_type": "stream",
     "text": [
      "Fitted 1 data objects\n",
      "pyDIFRATE project with 1 data sets\n",
      "<pyDR.Project.Project.Project object at 0x7fad817a21f0>\n",
      "\n",
      "Titles:\n",
      "n12:MD:ubi_aligned\n"
     ]
    }
   ],
   "source": [
    "proj['MD']['raw'].detect.r_no_opt(12)\n",
    "proj['MD']['raw'].fit()"
   ]
  },
  {
   "cell_type": "code",
   "execution_count": 89,
   "id": "adb077a3",
   "metadata": {},
   "outputs": [],
   "source": [
    "class MFfit():\n",
    "        def __init__(self,z,A,error,fit,npars):\n",
    "            self.npars=npars\n",
    "            self.z=np.array(z)\n",
    "            self.A=np.array(A)\n",
    "            self.error=error\n",
    "            self.fit=fit\n",
    "        \n",
    "        @property\n",
    "        def S2(self):\n",
    "            return 1-np.array([A0 for A0 in self.A]).sum(0)\n",
    "        \n",
    "        @property\n",
    "        def tc(self):\n",
    "            return 10**self.z\n",
    "        \n",
    "        def calc_rates(self,sens):\n",
    "            out=[linear_ex(sens.z,sens.rhoz,z0)*A0 for z0,A0 in zip(self.z,self.A)]\n",
    "            out=np.array(out).sum(0)\n",
    "            if hasattr(sens,'R0'):\n",
    "                out=(out.T+sens.R0).T\n",
    "            return out\n",
    "        \n",
    "        def compare_rates(self,data):\n",
    "            data.plot(style='bar')\n",
    "            rates=self.calc_rates(data.sens)\n",
    "            for R,a in zip(rates,data.project.plot_obj.ax):\n",
    "                a.scatter(self.fit.label,R,color='black',s=10)\n",
    "                \n",
    "            return data.project.plot_obj\n",
    "            \n",
    "\n",
    "def MF(npars):\n",
    "    if len(proj[f'p{npars}:MD:ubi_aligned'])==0:\n",
    "        data=proj['MD']['no_opt'][0]\n",
    "        data.detect.r_auto(npars)\n",
    "        fit=data.fit()\n",
    "    else:\n",
    "        fit=proj[f'p{npars}:MD:ubi_aligned'][0]   \n",
    "    nz=np.ceil(npars/2).astype(int)\n",
    "    fixz=[-14.,*[None for _ in range(nz-1)]] if np.mod(npars,2) else None\n",
    "    print(fixz)\n",
    "    z,A,error,fit=model_free(fit,nz=nz,fixz=fixz)\n",
    "    return MFfit(z,A,error,fit,npars)\n",
    "    \n",
    "def Detectors(npars):\n",
    "    if len(proj[f'p{npars}:MD:ubi_aligned'])==0:\n",
    "        data=proj['MD']['no_opt'][0]\n",
    "        data.detect.r_auto(npars)\n",
    "        fit=data.fit()\n",
    "        "
   ]
  },
  {
   "cell_type": "code",
   "execution_count": 79,
   "id": "94b85f31",
   "metadata": {},
   "outputs": [
    {
     "data": {
      "text/plain": [
       "array([ 2.,  3.,  4.,  5.,  6.,  7.,  8.,  9., 10., 11., 12., 13., 14.,\n",
       "       15., 16., 17., 18., 20., 22., 23., 25., 26., 27., 29., 30., 32.,\n",
       "       33., 34., 35., 36., 39., 40., 41., 42., 43., 44., 45., 46., 47.,\n",
       "       48., 49., 50., 51., 52., 54., 55., 56., 57., 59., 60., 61., 62.,\n",
       "       63., 64., 65., 66., 67., 68., 70., 71., 74., 75., 76.],\n",
       "      dtype=float32)"
      ]
     },
     "execution_count": 79,
     "metadata": {},
     "output_type": "execute_result"
    }
   ],
   "source": [
    "proj[0].label"
   ]
  },
  {
   "cell_type": "code",
   "execution_count": 91,
   "id": "fd75ce42",
   "metadata": {},
   "outputs": [
    {
     "name": "stdout",
     "output_type": "stream",
     "text": [
      "None\n",
      "1 of 4 iterations\n",
      "2 of 4 iterations\n"
     ]
    },
    {
     "name": "stderr",
     "output_type": "stream",
     "text": [
      "/Users/albertsmith/Documents/GitHub.nosync/pyDR/Fitting/fit.py:398: RuntimeWarning: invalid value encountered in reciprocal\n",
      "  pinv=((m**2).sum(1)**(-1))*m.T\n"
     ]
    },
    {
     "name": "stdout",
     "output_type": "stream",
     "text": [
      "3 of 4 iterations\n",
      "4 of 4 iterations\n",
      "Data already in project (index=4)\n"
     ]
    }
   ],
   "source": [
    "mf=MF(4)"
   ]
  },
  {
   "cell_type": "code",
   "execution_count": 92,
   "id": "e7843181",
   "metadata": {},
   "outputs": [
    {
     "data": {
      "image/png": "[encoded data removed]",
      "text/plain": [
       "<Figure size 576x864 with 10 Axes>"
      ]
     },
     "metadata": {
      "needs_background": "light"
     },
     "output_type": "display_data"
    }
   ],
   "source": [
    "proj.close_fig('all')\n",
    "mf.compare_rates(proj[0])\n",
    "proj.fig.set_size_inches([8,12])"
   ]
  },
  {
   "cell_type": "code",
   "execution_count": 72,
   "id": "8f729280",
   "metadata": {},
   "outputs": [],
   "source": [
    "proj.current=1"
   ]
  },
  {
   "cell_type": "code",
   "execution_count": 74,
   "id": "c8e1da08",
   "metadata": {},
   "outputs": [
    {
     "ename": "AttributeError",
     "evalue": "'NoneType' object has no attribute 'fig'",
     "output_type": "error",
     "traceback": [
      "\u001b[0;31m---------------------------------------------------------------------------\u001b[0m",
      "\u001b[0;31mAttributeError\u001b[0m                            Traceback (most recent call last)",
      "\u001b[0;32m<ipython-input-74-6eda26da6db6>\u001b[0m in \u001b[0;36m<module>\u001b[0;34m\u001b[0m\n\u001b[0;32m----> 1\u001b[0;31m \u001b[0mproj\u001b[0m\u001b[0;34m.\u001b[0m\u001b[0mplot_obj\u001b[0m\u001b[0;34m.\u001b[0m\u001b[0mfig\u001b[0m\u001b[0;34m\u001b[0m\u001b[0;34m\u001b[0m\u001b[0m\n\u001b[0m",
      "\u001b[0;31mAttributeError\u001b[0m: 'NoneType' object has no attribute 'fig'"
     ]
    }
   ],
   "source": [
    "proj.plot_obj.fig"
   ]
  },
  {
   "cell_type": "code",
   "execution_count": null,
   "id": "32cda2c7",
   "metadata": {},
   "outputs": [],
   "source": []
  }
 ],
 "metadata": {
  "kernelspec": {
   "display_name": "Python 3",
   "language": "python",
   "name": "python3"
  },
  "language_info": {
   "codemirror_mode": {
    "name": "ipython",
    "version": 3
   },
   "file_extension": ".py",
   "mimetype": "text/x-python",
   "name": "python",
   "nbconvert_exporter": "python",
   "pygments_lexer": "ipython3",
   "version": "3.8.8"
  }
 },
 "nbformat": 4,
 "nbformat_minor": 5
}
