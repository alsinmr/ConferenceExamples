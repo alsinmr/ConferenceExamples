{
 "cells": [
  {
   "cell_type": "markdown",
   "id": "5c534a3c",
   "metadata": {},
   "source": [
    "# <font color=#2e86c1> Calculating NMR Parameters from MD Simulations 2: Calculating Relaxation </font> "
   ]
  },
  {
   "cell_type": "markdown",
   "id": "768fb1bc",
   "metadata": {},
   "source": [
    "In the previous section, we learned how to derive order parameters and correlation functions from an MD trajectory. Now, the question is, how do we acquire NMR rate constants from the correlation functions. To begin, we give the formulas for a few rate constants, where relaxation results from a single strong dipole coupling and chemical shift anisotropy (for backbone H–N motion that we will analyze here, these are sufficient terms to reproduce the relaxation).\n",
    "\n",
    "$$\n",
    "\\begin{eqnarray}\n",
    "R_1^I&=& \\left(\\frac{\\delta^{IS}}{4}\\right)^2(J(\\omega_I-\\omega_S)+3J(\\omega_I)+6J(\\omega_I+\\omega_S))+\\frac13(\\omega_I\\Delta\\sigma_I)^2J(\\omega_I)\\\\\n",
    "R_2^I&=& \\frac12R_1^I+\\left(\\frac{\\delta^{IS}}{4}\\right)^2(J(\\omega_S)+2J(0)+\\frac29(\\omega_I\\Delta\\sigma_I)^2J(0)\\\\\n",
    "\\Gamma_{IS}&=& \\left(\\frac{\\delta^{IS}}{4}\\right)^2(-J(\\omega_I-\\omega_S)+6J(\\omega_I+\\omega_S))\n",
    "\\end{eqnarray}\n",
    "$$\n",
    "\n",
    "These yield the orientationally averaged rate constants, which is relevant in solids where the relaxation is multiexponential (meaning we should be careful to extract the average rate when fitting to experiment and comparing). The critical terms are the sizes of the interactions ($\\delta^{IS}$, $\\omega_I\\Delta\\sigma_I$), and the frequencies at which the spectral densities are sampled (0, $\\omega_S$, $\\omega_I$, $\\omega_I\\pm\\omega_S$).\n",
    "\n",
    "The spectral density itself is given by the real part of the Fourier transform of the correlation function, that is:\n",
    "\n",
    "$$\n",
    "J(\\omega)=2\\int\\limits_0^\\infty{C(t)\\cos(\\omega t)dt}\n",
    "$$\n",
    "\n",
    "We usually assume that $C(t)$ is symmetric in time, so that we integrate from 0 instead of $-\\infty$, and multiply by 2. A factor of 1/5 needs to appear in the correlation function to account for the isotropic average over starting orientations. This factor is sometimes incorporated into the correlation function for overall tumbling, i.e. for isotropic tumbling the correlation function is $C(t)=\\frac15\\exp(-t/\\tau_M)$, and then the total correlation function is $C(t)=\\frac15\\exp(-t/\\tau_M)C_{int.}(t)$. However, if no overall tumbling is present because we are working in solids, then the factor of $1/5$ needs to nonetheless be included. Note that what we have calculated in the previous section is $C_{int.}(t)$\n",
    "\n",
    "We could, in principle, Fourier transform the correlation functions from the previous section directly (after subtracting the order parameter away). Instead, what we usually do is assume the correlation function is a sum of exponentially decaying functions, and fit the corresponding parameters. \n",
    "\n",
    "$$\n",
    "C_{int}(t)=S^2+\\sum\\limits_i{A_i\\exp(-t/\\tau_i)}\n",
    "$$\n",
    "\n",
    "Here, $S^2=1-\\sum_i{A_i}$.\n",
    "\n",
    "In the case that we have only internal motion (no tumbling), the spectral density may be written as follows, noting that the Fourier transform of an exponential is a Lorentzian function\n",
    "\n",
    "$$\n",
    "J(\\omega)=2\\sum\\limits_i{A_i\\frac{\\tau_i}{1+(\\omega\\tau_i)^2}}\n",
    "$$\n",
    "\n",
    "However, if tumbling is included, we first need to calculate an effective correlation time. We'll revisit this later."
   ]
  },
  {
   "cell_type": "markdown",
   "id": "c408eb65",
   "metadata": {},
   "source": [
    "## Setup\n",
    "We need to repeat the initial setup performed in the first notebook"
   ]
  },
  {
   "cell_type": "code",
   "execution_count": 1,
   "id": "5f44761e",
   "metadata": {},
   "outputs": [],
   "source": [
    "# Make sure pyDR is installed and on the path\n",
    "import sys\n",
    "import os\n",
    "if 'google.colab' in sys.modules: #Colab\n",
    "    !git clone https://github.com/alsinmr/pyDR\n",
    "else:\n",
    "    os.chdir('../../..')"
   ]
  },
  {
   "cell_type": "code",
   "execution_count": 2,
   "id": "7c6e88fd",
   "metadata": {},
   "outputs": [],
   "source": [
    "# imports\n",
    "import pyDR\n",
    "pyDR.Defaults['zrange']=[-14,-3,200]\n",
    "from pyDR.Fitting.fit import model_free\n",
    "from pyDR.MDtools import vft\n",
    "from pyDR.misc.tools import linear_ex\n",
    "import numpy as np\n",
    "import matplotlib.pyplot as plt\n",
    "import MDAnalysis as mda\n",
    "from time import time\n",
    "from copy import copy"
   ]
  },
  {
   "cell_type": "code",
   "execution_count": 3,
   "id": "9f42fa26",
   "metadata": {},
   "outputs": [],
   "source": [
    "# Download the trajectory files\n",
    "xtc='https://drive.google.com/file/d/1wq5T-YDmPo2zAIWu9we2zyL2i-v52fnD/view?usp=sharing'\n",
    "pdb='https://drive.google.com/file/d/1aBMUO2C1AZfx05dANl4QITHuqmHbDDsN/view?usp=sharing'\n",
    "\n",
    "if not(os.path.exists('ubi.pdb')):\n",
    "    pyDR.IO.download(pdb,'ubi.pdb')\n",
    "if not(os.path.exists('ubi.xtc')):\n",
    "    pyDR.IO.download(xtc,'ubi.xtc')"
   ]
  },
  {
   "cell_type": "code",
   "execution_count": 4,
   "id": "5a1cf632",
   "metadata": {},
   "outputs": [],
   "source": [
    "def align(uni,fileout='ubi_aligned.xtc',ref_sel='name CA'):\n",
    "    \"\"\"\n",
    "    This function takes a trajectory and aligns it based on\n",
    "    a reference selection of atoms. The new trajectory is\n",
    "    returned in fileout (default is ubi_aligned.xtc)\n",
    "    \"\"\"\n",
    "    \n",
    "    from scipy.linalg import svd\n",
    "    \n",
    "    uni.trajectory[0] #Go to the first frame of the trajectory\n",
    "    atoms=uni.atoms   #All atoms in the trajectory\n",
    "    ref_sel=uni.select_atoms(ref_sel)  #Atom group for the reference\n",
    "    \n",
    "    ref0=ref_sel.positions #initial positions of reference atoms\n",
    "    ref0-=ref0.mean(0) #Centers the initial position\n",
    "    \n",
    "    with mda.Writer(fileout,atoms.n_atoms) as W:\n",
    "        for ts in uni.trajectory:\n",
    "            ref=ref_sel.positions\n",
    "            pos=atoms.positions\n",
    "\n",
    "            pos-=ref.mean(0)   #This centers the reference\n",
    "            ref-=ref.mean(0)   \n",
    "            \n",
    "            H=ref0.T@ref       #3x3 matrix\n",
    "            U,S,Vt=svd(H)      #Singular value decomposition\n",
    "            V=Vt.T             #Transposes\n",
    "            Ut=U.T\n",
    "\n",
    "            R=V@Ut             #Rotation matrix for alignment\n",
    "            \n",
    "            pos_corr=(R.T@pos.T).T\n",
    "            atoms.positions=pos_corr\n",
    "            \n",
    "            W.write(atoms)\n",
    "    return"
   ]
  },
  {
   "cell_type": "code",
   "execution_count": 5,
   "id": "7f3bd14f",
   "metadata": {},
   "outputs": [],
   "source": [
    "uni0=mda.Universe('ubi.pdb','ubi.xtc')\n",
    "if not(os.path.exists('ubi_aligned.xtc')):\n",
    "    align(uni0,fileout='ubi_aligned.xtc')   #Runs the code to align Ubiquitin in the universe\n",
    "uni=mda.Universe('ubi.pdb','ubi_aligned.xtc')  #Loads the aligned trajectory"
   ]
  },
  {
   "cell_type": "markdown",
   "id": "10f4fe8e",
   "metadata": {},
   "source": [
    "## pyDIFRATE initial data load\n",
    "We'll work with pyDIFRATE in this notebook. We'll start with a project (`proj=pyDR.Project`) and load NMR data into it which is downloaded online, and also load correlation functions into it from an MD trajectory.\n",
    "\n",
    "We won't go into great detail on how everything is working in this notebook. Have a look at the [pyDIFRATE tutorial](https://alsinmr.github.io/pyDR) to get a closer look on how to use pyDIFRATE more generally."
   ]
  },
  {
   "cell_type": "code",
   "execution_count": 48,
   "id": "9753e06e",
   "metadata": {},
   "outputs": [],
   "source": [
    "def load_proj():\n",
    "    proj=pyDR.Project()\n",
    "    proj.append_data('https://raw.githubusercontent.com/alsinmr/pyDR_tutorial/main/data/ubi_soln.txt')\n",
    "    proj[0].sens.info['tM']=4.5e-9\n",
    "    data=proj[0].__copy__()    \n",
    "    R00=data.R[0,0]\n",
    "    data.R[0,0]=0\n",
    "    data.sens=pyDR.Sens.NMR(info=data.sens.info)\n",
    "    proj.append_data(data)\n",
    "    data.R[0,0]=R00\n",
    "    proj[-1].source.filename='ubi.text'\n",
    "\n",
    "\n",
    "    sel=pyDR.MolSelect(topo='ubi.pdb',traj_files='ubi_aligned.xtc',project=proj)\n",
    "    sel.select_bond('15N')\n",
    "    pyDR.md2data(sel)\n",
    "\n",
    "    sel=pyDR.MolSelect(topo='ubi.pdb',traj_files='ubi.xtc',project=proj)\n",
    "    sel.select_bond('15N')\n",
    "    pyDR.md2data(sel)\n",
    "\n",
    "\n",
    "    return proj"
   ]
  },
  {
   "cell_type": "code",
   "execution_count": 49,
   "id": "87b4d500",
   "metadata": {},
   "outputs": [
    {
     "name": "stdout",
     "output_type": "stream",
     "text": [
      "Warning: Assigned sensitivity object did not equal detector sensitivities. Re-defining detector object\n",
      "Loading Ref. Frames: |██████████████████████████████████████████████████| 100.0% Complete\n",
      "Completed\n",
      "Loading Ref. Frames: |██████████████████████████████████████████████████| 100.0% Complete\n",
      "Completed\n",
      "pyDIFRATE project with 4 data sets\n",
      "\n",
      "titles:\n",
      "r:NMR:ubi_soln\n",
      "r:NMR:ubi\n",
      "r:MD:ubi_aligned\n",
      "r:MD:ubi\n",
      "\n"
     ]
    }
   ],
   "source": [
    "proj=load_proj()\n",
    "\n",
    "# Time axis for correlation functions\n",
    "data=proj['raw']['MD'][0]\n",
    "t=data.sens.info['t']  #ns\n",
    "\n",
    "# Residues in the simulation\n",
    "resids=data.label\n",
    "print(proj)"
   ]
  },
  {
   "cell_type": "markdown",
   "id": "07544bac",
   "metadata": {},
   "source": [
    "## Part 1: Directly calculate the spectral density\n",
    "We can obtain the spectral density via Fourier transform of the correlation function. \n",
    "\n",
    "We first note that the correlation functions and order parameters are stored in the project. We plot one for example."
   ]
  },
  {
   "cell_type": "code",
   "execution_count": 50,
   "id": "0f5a446f",
   "metadata": {},
   "outputs": [
    {
     "data": {
      "image/png": "[encoded data removed]",
      "text/plain": [
       "<Figure size 432x288 with 1 Axes>"
      ]
     },
     "metadata": {
      "needs_background": "light"
     },
     "output_type": "display_data"
    }
   ],
   "source": [
    "resi=10\n",
    "i=np.argmax(resids==resi) # Finds where this is true  \n",
    "data=proj['MD']['raw']['.+aligned']  #Finds the unprocessed MD data\n",
    "\n",
    "ax=plt.subplots()[1]\n",
    "ax.plot(t,data.R[i])\n",
    "ax.plot(t[[0,-1]],np.ones(2)*data.S2[i],color='black',linestyle='--')\n",
    "ax.set_xlabel(r'$t$ / ns')\n",
    "ax.set_ylabel(r'$C(t)$')\n",
    "ax.set_title(f'Residue: {resi}')\n",
    "ax.legend((r'$C(t)$',r'$S^2$'))\n",
    "_=ax.set_ylim([0,1])"
   ]
  },
  {
   "cell_type": "markdown",
   "id": "d39e8d2d",
   "metadata": {},
   "source": [
    "Plot the spectral density for a few residues (code below)"
   ]
  },
  {
   "cell_type": "code",
   "execution_count": 51,
   "id": "f5272a4d",
   "metadata": {},
   "outputs": [],
   "source": [
    "resi=2\n",
    "i=np.argmax(resids==resi) # Finds where this is true  \n",
    "Ct=data.R[i]-data.S2[i]\n",
    "Ct[0]/=2  #Single-sided FT, need to cut first point in half\n",
    "dt=(t[1]-t[0])*1e-9\n",
    "J=2*np.fft.fftshift(np.fft.fft(Ct[:len(Ct)//2],n=len(Ct))).real*dt\n",
    "\n",
    "f=1/(2*dt)*np.linspace(-1,1,len(t))/1e6\n",
    "f-=(f[1]-f[0])/2"
   ]
  },
  {
   "cell_type": "code",
   "execution_count": 52,
   "id": "ebb851b1",
   "metadata": {},
   "outputs": [
    {
     "data": {
      "image/png": "[encoded data removed]",
      "text/plain": [
       "<Figure size 432x288 with 1 Axes>"
      ]
     },
     "metadata": {
      "needs_background": "light"
     },
     "output_type": "display_data"
    }
   ],
   "source": [
    "ax=plt.subplots()[1]\n",
    "ax.plot(f,J)\n",
    "ax.set_xlabel(r'$\\omega/(2\\pi)$ / MHz')\n",
    "ax.set_ylabel(r'$J(\\omega)$ / s')\n",
    "_=ax.set_xlim([-1000,1000])"
   ]
  },
  {
   "cell_type": "markdown",
   "id": "08e920dc",
   "metadata": {},
   "source": [
    "### Exercise 1.1\n",
    "Why do we recommend fitting the correlation function rather than taking the correlation function directly?"
   ]
  },
  {
   "cell_type": "markdown",
   "id": "879bdfaf",
   "metadata": {},
   "source": [
    "## Part 2: Multi-exponential fitting (model-free-like analysis)\n",
    "In the hidden cell, we define a class below to extract model free parameters from MD-derived correlation functions, that also includes a variety of plotting functions."
   ]
  },
  {
   "cell_type": "code",
   "execution_count": 117,
   "id": "4554a42c",
   "metadata": {
    "tags": [
     "hide-cell"
    ]
   },
   "outputs": [],
   "source": [
    "class MF():\n",
    "    def __init__(self,n:int=5,aligned:bool=True,Type='MD',proj=proj):\n",
    "        self._Type=Type\n",
    "        self.proj=proj\n",
    "        self._n=None\n",
    "        self.aligned=aligned\n",
    "        self._z=None\n",
    "        self._A=None\n",
    "        self.fit=None\n",
    "        self.chi2=None\n",
    "        self.n=n\n",
    "    \n",
    "    @property\n",
    "    def Type(self):\n",
    "        return self._Type\n",
    "    \n",
    "    @Type.setter\n",
    "    def Type(self):\n",
    "        assert 0,'Type (MD/NMR) cannot be changed after initialization'\n",
    "        \n",
    "    def _title(self,pre):\n",
    "        if pre=='n':\n",
    "            pre='n12' if self.Type=='MD' else 'n6'\n",
    "            \n",
    "        if self.Type=='MD':\n",
    "            return f'{pre}:MD:ubi'+('_aligned' if self._aligned else '$')\n",
    "        return f'{pre}:NMR:ubi'+('_soln' if self._aligned else '$')\n",
    "    \n",
    "    def _mdtitle(self,pre):\n",
    "        return f'{pre}:MD:ubi'+('_aligned' if self._aligned else '$')\n",
    "                \n",
    "    @property\n",
    "    def n(self):\n",
    "        return self._n\n",
    "    \n",
    "    @n.setter\n",
    "    def n(self,n):\n",
    "        if hasattr(self,'_n') and n==self._n:\n",
    "            return\n",
    "        self._n=n\n",
    "        if len(proj[self._title(f'p{n}')])==0:\n",
    "            self.proj[self._title('n')].detect.r_auto(n=n)\n",
    "            self.proj[self._title('n')].fit()\n",
    "        data=proj[self._title(f'p{n}')][0]\n",
    "\n",
    "        fixz=[-14,*[None for _ in range(self.nz-1)]] if n%2 else None\n",
    "            \n",
    "        z,A,chi2,fit=model_free(data,self.nz,fixz=fixz,include=[True for _ in range(n)])\n",
    "        self.z=z\n",
    "        self.A=A\n",
    "        self.fit=fit\n",
    "        self.chi2=chi2\n",
    "        \n",
    "    @property\n",
    "    def nz(self):\n",
    "        return np.ceil(self.n/2).astype(int)\n",
    "        \n",
    "    @property\n",
    "    def aligned(self):\n",
    "        return self._aligned\n",
    "    \n",
    "    @aligned.setter\n",
    "    def aligned(self,aligned):\n",
    "        if hasattr(self,'_aligned') and self._aligned==aligned:\n",
    "            return\n",
    "        \n",
    "        self._aligned=aligned\n",
    "        \n",
    "        nd=12 if self.Type=='MD' else 6\n",
    "        if len(proj[self._title('n')])==0:\n",
    "            proj[self._title('r')].detect.r_no_opt(nd)\n",
    "#             if self.Type!='MD':proj[self._title('r')][0].detect.R2ex()\n",
    "            proj[self._title('r')].fit()\n",
    "#             proj[self._title('n')].del_exp(index=-1)\n",
    "        \n",
    "        if self._n is not None:\n",
    "            n=self.n    #Force a re-calculation\n",
    "            self._n=0  \n",
    "            self.n=n\n",
    "        \n",
    "    @property\n",
    "    def tc(self):\n",
    "        return 10**self.z\n",
    "    \n",
    "    @property\n",
    "    def S2_fit(self):\n",
    "        return 1-self.A.sum(0)\n",
    "    \n",
    "    @property\n",
    "    def S2(self):\n",
    "        return self.proj[self._title('r')].S2\n",
    "    \n",
    "    @property\n",
    "    def resids(self):\n",
    "        return self.proj[self._title('r')].label\n",
    "    \n",
    "    @property\n",
    "    def t(self):\n",
    "        return self.proj['MD']['raw']['ubi_aligned'].info['t'].astype(float)\n",
    "    \n",
    "    def plot_pars(self,ax:list=None):\n",
    "        if ax is None:\n",
    "            fig,ax=plt.subplots(self.nz,2,sharex=True)\n",
    "            if self.nz<=1:ax=[ax]\n",
    "        for k,ax0 in enumerate(ax):\n",
    "            i=self.A[k]>1e-3\n",
    "            ax0[0].scatter(self.resids[i],self.A[k][i],s=5,color='red')\n",
    "            ax0[0].set_ylabel('A')\n",
    "            ax0[0].set_ylim([-.01,ax0[0].get_ylim()[1]])\n",
    "            ax0[1].scatter(self.resids[i],self.z[k][i],s=5,color='red')\n",
    "            ax0[1].set_ylabel(r'$\\log_{10}(\\tau_c$ / s$)$')\n",
    "            if ax0[0].is_last_row():\n",
    "                for a in ax0:a.set_xlabel('Residue')\n",
    "        \n",
    "        fig.set_size_inches([8,3*self.nz])\n",
    "        fig.tight_layout()\n",
    "        return ax\n",
    "    \n",
    "    @property\n",
    "    def Ct_fit(self):\n",
    "        ct=np.ones([len(self.t),len(self.resids)])*self.S2_fit\n",
    "        for tc0,A0 in zip(self.tc,self.A):\n",
    "            ct+=np.exp(-np.kron(np.atleast_2d(self.t*1e-9).T,np.atleast_2d(1/tc0)))*A0\n",
    "        return ct.T\n",
    "    \n",
    "    @property\n",
    "    def Ct(self):\n",
    "        return self.proj[self._mdtitle('r')].R\n",
    "    \n",
    "    def plot_ct(self,resi:int,semilog=False,show_fit=None,ax=None):\n",
    "        if ax is None:\n",
    "            ax=plt.subplots()[1]\n",
    "        i=self.resids==resi\n",
    "        assert np.any(i),'No data for selected residue'\n",
    "        i=np.argmax(i)\n",
    "        \n",
    "        if show_fit is None:show_fit=self.Type=='MD'\n",
    "        \n",
    "        plot=ax.semilogx if semilog else ax.plot\n",
    "        if show_fit:\n",
    "            i0=np.argmax(self.proj['MD']['raw'][0].label==resi)\n",
    "            plot(self.t,self.Ct[i0],color='red')\n",
    "            plot(self.t,self.Ct_fit[i],color='black',linestyle='--')\n",
    "            ax.legend(('MD','fit'))\n",
    "        else:\n",
    "            plot(self.t,self.Ct_fit[i],color='red')\n",
    "        ax.set_xlabel(r'$t$ / ns')\n",
    "        ax.set_ylabel(r'$C(t)$')\n",
    "        ax.set_title(f'Residue: {resi}')\n",
    "\n",
    "        return ax\n",
    "    \n",
    "    @property\n",
    "    def data(self):\n",
    "        return self.proj[self._title(f'p{self.n}')][0]\n",
    "    \n",
    "    @property\n",
    "    def nmr_data(self):\n",
    "        return self.proj['r:NMR:ubi'+('_soln' if self.aligned else '')][0]\n",
    "        \n",
    "    @property\n",
    "    def nmr_sens(self):\n",
    "        return self.nmr_data.sens\n",
    "    \n",
    "    @property\n",
    "    def relax_rates(self):\n",
    "        R=np.ones([len(self.resids),self.nmr_sens.rhoz.shape[0]])*self.nmr_sens.R0\n",
    "        for z0,A0 in zip(self.z,self.A):\n",
    "            R+=(A0*linear_ex(self.nmr_sens.z,self.nmr_sens.rhoz,z0)).T\n",
    "        return R\n",
    "    \n",
    "    @property\n",
    "    def det_relax_rates(self):\n",
    "        assert self.Type=='MD','Relaxation rates from detectors only from MD'\n",
    "        data=self.proj[self._title('n')]\n",
    "        data.detect.r_target(target=self.nmr_sens.rhoz)\n",
    "        self.proj.remove_data(-1)\n",
    "        return data.R\n",
    "    \n",
    "    def plot_rates(self,det=False,ax=None):\n",
    "        if ax is None:\n",
    "            fig,ax=plt.subplots(3,3)\n",
    "            ax=ax.flatten()\n",
    "        else:\n",
    "            fig=ax[0].figure\n",
    "        rates=self.det_relax_rates if det else self.relax_rates\n",
    "        for k,a in enumerate(ax):\n",
    "            a.bar(self.nmr_data.label,self.nmr_data.R[:,k],color=plt.get_cmap('tab10')(k),zorder=0)\n",
    "            a.scatter(self.resids,self.relax_rates[:,k],s=10,color='black',zorder=10)\n",
    "            Type=self.nmr_data.info[k][\"Type\"]\n",
    "            if len(Type)==2:Type=rf'${Type[0]}_{Type[1]}$'\n",
    "            a.set_title(Type+f' @ {self.nmr_data.info[k][\"v0\"]} MHz')\n",
    "        fig.set_size_inches([11,9])\n",
    "        fig.tight_layout()\n",
    "        return ax\n",
    "    \n",
    "    def plot_fit(self):\n",
    "        self.proj.close_fig('all')\n",
    "        self.data.plot(style='bar')\n",
    "        self.fit.plot(style='s')\n",
    "        return self.proj.plot_obj"
   ]
  },
  {
   "cell_type": "markdown",
   "id": "0d604520",
   "metadata": {},
   "source": [
    "### Investigate the quality of multi-exponential fitting of the correlation function\n",
    "\n",
    "The value of `n` below determines how many parameters are used to fit the correlation times. If an even value is used, then we have $n/2$ pairs of amplitudes and correlation times to fit the correlation function. If an odd value is used, then we have $(n-1)/2$ pairs of amplitudes and correlation times, plus a single \"fast\" motion, which will have an arbitrarily short. correlation time (it will account for the decay between the first two time points of the correlation function)\n",
    "\n",
    "### Exercise 2.1\n",
    "Adjust `n` below until you're satisfied with the fit of the correlation functions. A sample of correlation functions is plotted to see the fit quality (if you get the plotted correlation functions to fit, the other correlation functions should be ok, but you may also adjust which correlation functions to see, for example, by changing `mf.resids[10::4]` to `mf.resids[1::4]`, which adjusts the first correlation function to show). \n",
    "\n",
    "What value of `n` do you get?"
   ]
  },
  {
   "cell_type": "code",
   "execution_count": 119,
   "id": "ef84fad0",
   "metadata": {
    "tags": [
     "hide-output"
    ]
   },
   "outputs": [
    {
     "name": "stdout",
     "output_type": "stream",
     "text": [
      "\r",
      "Iterations |------------------------------| 0%  of 4 steps\r",
      "\r",
      "Iterations |███████-----------------------| 25%  of 4 steps\r"
     ]
    },
    {
     "name": "stderr",
     "output_type": "stream",
     "text": [
      "/Users/albertsmith/Documents/GitHub.nosync/pyDR/Fitting/fit.py:400: RuntimeWarning: invalid value encountered in reciprocal\n",
      "  pinv=((m**2).sum(1)**(-1))*m.T\n"
     ]
    },
    {
     "name": "stdout",
     "output_type": "stream",
     "text": [
      "Iterations |██████████████████████████████| 100%  of 4 steps\n",
      "Completed\n",
      "Data already in project (index=6)\n"
     ]
    }
   ],
   "source": [
    "mf=MF(n=3)"
   ]
  },
  {
   "cell_type": "code",
   "execution_count": null,
   "id": "d2393271",
   "metadata": {
    "tags": [
     "remove-output"
    ]
   },
   "outputs": [],
   "source": [
    "fig,ax=plt.subplots(4,4,sharex=True,sharey=True,figsize=[12,10])\n",
    "ax=ax.flatten()\n",
    "for a,resi in zip(ax,mf.resids[9::4]):\n",
    "    mf.plot_ct(resi=resi,semilog=True,ax=a)\n",
    "    if not(a.is_first_col()):\n",
    "        a.set_ylabel('')\n",
    "    if not(a.is_last_row()):\n",
    "        a.set_xlabel('')\n",
    "fig.tight_layout()"
   ]
  },
  {
   "cell_type": "markdown",
   "id": "de2c2ba3",
   "metadata": {},
   "source": [
    "### Exercise 2.2\n",
    "Repeat exercise 2.1 but without alignment. What value of $n$ do you get? Why is it different?"
   ]
  },
  {
   "cell_type": "code",
   "execution_count": 61,
   "id": "cf734c94",
   "metadata": {
    "tags": [
     "hide-output"
    ]
   },
   "outputs": [
    {
     "name": "stdout",
     "output_type": "stream",
     "text": [
      "\r",
      "Iterations |------------------------------| 0%  of 4 steps\r",
      "\r",
      "Iterations |███████-----------------------| 25%  of 4 steps\r"
     ]
    },
    {
     "name": "stderr",
     "output_type": "stream",
     "text": [
      "/Users/albertsmith/Documents/GitHub.nosync/pyDR/Fitting/fit.py:400: RuntimeWarning: invalid value encountered in reciprocal\n",
      "  pinv=((m**2).sum(1)**(-1))*m.T\n"
     ]
    },
    {
     "name": "stdout",
     "output_type": "stream",
     "text": [
      "Iterations |██████████████████████████████| 100%  of 4 steps\n",
      "Completed\n",
      "Data already in project (index=11)\n"
     ]
    }
   ],
   "source": [
    "mfNA=MF(n=3,aligned=False)"
   ]
  },
  {
   "cell_type": "code",
   "execution_count": null,
   "id": "e0bd2194",
   "metadata": {
    "tags": [
     "remove-output"
    ]
   },
   "outputs": [],
   "source": [
    "fig,ax=plt.subplots(4,4,sharex=True,sharey=True,figsize=[12,10])\n",
    "ax=ax.flatten()\n",
    "for a,resi in zip(ax,mfNA.resids[11::4]):\n",
    "    mfNA.plot_ct(resi=resi,semilog=True,ax=a)\n",
    "    if not(a.is_first_col()):\n",
    "        a.set_ylabel('')\n",
    "    if not(a.is_last_row()):\n",
    "        a.set_xlabel('')\n",
    "fig.tight_layout()"
   ]
  },
  {
   "cell_type": "markdown",
   "id": "1c98eb2b",
   "metadata": {},
   "source": [
    "### Exercise 2.3\n",
    "Plot the model free parameters below. Are the fit parameters reliable? What does the slowest correlation time and corresponding amplitude tell us. The fastest correlation time was fixed to 10 femtoseconds. What does this correlation time and amplitude tell us?"
   ]
  },
  {
   "cell_type": "code",
   "execution_count": null,
   "id": "908e203b",
   "metadata": {
    "tags": [
     "hide-output"
    ]
   },
   "outputs": [],
   "source": [
    "_=mf.plot_pars()"
   ]
  },
  {
   "cell_type": "markdown",
   "id": "41236c44",
   "metadata": {},
   "source": [
    "## Part 3: Calculating relaxation rate constants\n",
    "We can use the formulas at the beginning of this document to calculate relaxation constants for various experiments. Note that to reproduce an experiment, we need to account for the total motion, which includes tumbling (that we have factored out). It will be useful to note that tumbling occurs for ubiquitin with a correlation time of 4.84 ns. The total correlation function is given by\n",
    "\n",
    "$$\n",
    "\\begin{eqnarray}\n",
    "C(t)&=&C_{tumbl.}(t)\\cdot C_{int.} \\\\\n",
    "&=&\\frac15\\exp(-t/\\tau_M)\\left(S^2+\\sum\\limits_i{A_i\\exp(-t/\\tau_i)}\\right) \\\\\n",
    "&=&\\frac15\\left(S^2\\exp(-t/\\tau_M)+\\sum\\limits_i{A_i}\\exp(-t/\\tau^i_{eff})\\right)\n",
    "\\end{eqnarray}\n",
    "$$\n",
    "\n",
    "With definitions\n",
    "\n",
    "$$\n",
    "\\begin{eqnarray}\n",
    "S^2&=&1-\\sum_i{A_i} \\\\\n",
    "\\tau_{eff}^i&=&\\frac{\\tau_i\\tau_M}{\\tau_i+\\tau_M}\n",
    "\\end{eqnarray}\n",
    "$$\n",
    "\n",
    "Then, to obtain the relaxation rate constants, we have a few steps:\n",
    "\n",
    "1. Calculate the order parameter\n",
    "\n",
    "2. Calculate the effective correlation times\n",
    "\n",
    "3. For each effective correlation time and the overall tumbling\n",
    "    \n",
    "    * Calculate the spectral density at the required frequencies\n",
    "    * Add all terms\n",
    "    * Scale by the interaction strengths\n",
    "    \n",
    "    \n",
    "4. Add all terms together"
   ]
  },
  {
   "cell_type": "markdown",
   "id": "a4276803",
   "metadata": {},
   "source": [
    "### Exercise 3.1\n",
    "Write a function for the effective correlation time ($\\tau_{eff}^i)$ given the internal correlation time ($\\tau_i$) and the correlation time of tumbling ($\\tau_M$). This has been started for you: just fill in the line `return ...`, replacing `...` with the correct formula. Try the formula, and see how it behaves if the internal motion is a lot faster, a lot slower, or similar to the correlation time of the tumbling."
   ]
  },
  {
   "cell_type": "code",
   "execution_count": 18,
   "id": "33166b60",
   "metadata": {},
   "outputs": [],
   "source": [
    "def tcEff(ti,tM):\n",
    "    return ..."
   ]
  },
  {
   "cell_type": "code",
   "execution_count": null,
   "id": "70da25e6",
   "metadata": {},
   "outputs": [],
   "source": [
    "# Test tcEFF here"
   ]
  },
  {
   "cell_type": "markdown",
   "id": "006729f8",
   "metadata": {},
   "source": [
    "### Exercise 3.2\n",
    "Write a function for the spectral density from a single correlation time with inputs of amplitude (`A`), correlation time (`tc`), and frequency (`v`, give in MHz). Plot the spectral density as a function of correlation time (on a log scale) for a fixed field, and as a function of frequency (for a fixed correlation time). You can set `A=1` for these calculations. Which of these functions has a well-defined maximum, and where is it? \n",
    "\n",
    "Note, in Python, to obtain a power, use the `**` symbol (e.g. `2**3=8`)."
   ]
  },
  {
   "cell_type": "code",
   "execution_count": 21,
   "id": "2cf163b5",
   "metadata": {},
   "outputs": [],
   "source": [
    "def J(A,tc,v):\n",
    "    omega=2*np.pi*1e6*v   #Convert MHz to rad/s\n",
    "    return ..."
   ]
  },
  {
   "cell_type": "code",
   "execution_count": null,
   "id": "2d3c2af5",
   "metadata": {
    "tags": [
     "hide-output"
    ]
   },
   "outputs": [],
   "source": [
    "fig,ax=plt.subplots(1,2,figsize=[9,4])\n",
    "tc=np.logspace(-12,-6,200)\n",
    "ax[0].semilogx(tc,J(1,tc,100))\n",
    "ax[0].set_xlabel(r'$\\tau_c$ / s')\n",
    "ax[0].set_ylabel(r'$J(\\omega,\\tau_c)$')\n",
    "ax[0].set_title(r'$J(\\omega,\\tau_c)$ vs. $\\tau_c$')\n",
    "v0=np.logspace(-1,3,200)\n",
    "ax[1].semilogx(v0,J(1,1e-8,v0))\n",
    "ax[1].set_xlabel(r'$\\omega_{2\\pi}$ / MHz')\n",
    "ax[1].set_title(r'$J(\\omega,\\tau_c)$ vs. $\\omega$')\n",
    "ax[1].set_ylabel(r'$J(\\omega,\\tau_c)$ / s')\n",
    "fig.tight_layout()"
   ]
  },
  {
   "cell_type": "markdown",
   "id": "75097d65",
   "metadata": {},
   "source": [
    "### Exercise 3.3\n",
    "Below is a function for calculating $R_1$ from a list of correlation times (`tc`) and amplitudes (`A`), in addition to the tumbling correlation time (`tM`), and the magnetic field in MHz ($^1$H frequency). Following this approach, write a function for the heteronuclear NOE and $R_2$ (these have been started for you). Note the $^{15}N$ Larmor frequency is -1/9.862 times the $^1$H Larmor frequency."
   ]
  },
  {
   "cell_type": "code",
   "execution_count": 67,
   "id": "9c7421e2",
   "metadata": {},
   "outputs": [
    {
     "name": "stdout",
     "output_type": "stream",
     "text": [
      "Ratio of Larmor frequencies: -9.862\n"
     ]
    }
   ],
   "source": [
    "print(f'Ratio of Larmor frequencies: {pyDR.tools.NucInfo(\"1H\")/pyDR.tools.NucInfo(\"15N\"):.3f}')"
   ]
  },
  {
   "cell_type": "code",
   "execution_count": 68,
   "id": "0ede2a0b",
   "metadata": {},
   "outputs": [],
   "source": [
    "# The required interaction anisotropy parameters are stored in pyDR\n",
    "delta=proj[0].sens.info[0]['dXY']\n",
    "DelSigma=proj[0].sens.info[0]['CSA']*3/2\n",
    "\n",
    "def R1(tM,tc,A,v0H):  #v0H in MHz\n",
    "    v0N=-v0H/9.862\n",
    "    S2=1-A.sum(0) # Could use multi-dimensional inputs\n",
    "    tceff=tcEff(tc,tM) #Effective correlation times\n",
    "    \n",
    "    # 1) Relaxation due to tumbling + dipole coupling\n",
    "    R1=(2*np.pi*delta/4)**2*(J(S2,tM,v0H-v0N)+3*J(S2,tM,v0N)+6*J(S2,tM,v0H+v0N))\n",
    "    # 2) Relaxation due to tumbling + CSA\n",
    "    R1+=1/3*(2*np.pi*v0N*DelSigma)**2*J(S2,tM,v0N)\n",
    "    \n",
    "    for tc0,A0 in zip(tceff,A):  #Now loop over internal motions with effective tc\n",
    "        # 3) Internal motion + dipole\n",
    "        R1+=(2*np.pi*delta/4)**2*(J(A0,tc0,v0H-v0N)+3*J(A0,tc0,v0N)+6*J(A0,tc0,v0H+v0N))\n",
    "        # 4) Internal motion + CSA\n",
    "        R1+=1/3*(2*np.pi*v0N*DelSigma)**2*J(A0,tc0,v0N)\n",
    "        \n",
    "    return R1/5 #Don't forget the 1/5!"
   ]
  },
  {
   "cell_type": "code",
   "execution_count": 69,
   "id": "0c721157",
   "metadata": {},
   "outputs": [],
   "source": [
    "def R2(tM,tc,A,v0H):\n",
    "    v0N=-v0H/9.862\n",
    "    S2=1-A.sum(0) # Could use multi-dimensional inputs\n",
    "    tceff=tcEff(tc,tM) #Effective correlation times\n",
    "\n",
    "    # 0) R1 contributions\n",
    "    R2=R1(tM,tc,A,v0H)\n",
    "    # 1) Relaxation due to tumbling + dipole coupling\n",
    "    R2+=...\n",
    "    # 2) Relaxation due to tumbling + CSA\n",
    "    R2+=...\n",
    "    \n",
    "    for tc0,A0 in zip(tceff,A):  #Now loop over internal motions with effective tc\n",
    "        # 3) Internal motion + dipole\n",
    "        R2+=...\n",
    "        # 4) Internal motion + CSA\n",
    "        R2+=...\n",
    "        \n",
    "    return R2/5 #Don't forget the 1/5!\n",
    "\n",
    "def NOE(tM,tc,A,v0H):\n",
    "    v0N=-v0H/9.862\n",
    "    S2=1-A.sum(0) # Could use multi-dimensional inputs\n",
    "    tceff=tcEff(tc,tM) #Effective correlation times\n",
    "\n",
    "    # 1) Relaxation due to tumbling + dipole coupling\n",
    "    NOE+=...\n",
    "    \n",
    "    for tc0,A0 in zip(tceff,A):  #Now loop over internal motions with effective tc\n",
    "        # 2) Internal motion + dipole\n",
    "        NOE+=...\n",
    "        \n",
    "    return ... #Don't forget the 1/5!"
   ]
  },
  {
   "cell_type": "markdown",
   "id": "ee508a27",
   "metadata": {},
   "source": [
    "### Plot your results\n",
    "Plot results below for a few fields"
   ]
  },
  {
   "cell_type": "code",
   "execution_count": null,
   "id": "b4d3c038",
   "metadata": {
    "tags": [
     "remove-output"
    ]
   },
   "outputs": [],
   "source": [
    "# Correlation time for ubiquitin already stored with NMR data\n",
    "tM=proj['NMR']['raw'][0].info['tM'][0]   #4.5 ns\n",
    "\n",
    "cmap=plt.get_cmap('tab10')\n",
    "\n",
    "fig,ax=plt.subplots(3,3,figsize=[12,9],sharex=True)\n",
    "\n",
    "for k,(ax0,v0H) in enumerate(zip(ax,[600,800,950])):\n",
    "    ax0[0].bar(mf.resids,R2(tM,mf.tc,mf.A,v0H),color=cmap(k))\n",
    "    ax0[1].bar(mf.resids,R1(tM,mf.tc,mf.A,v0H),color=cmap(k))\n",
    "    ax0[2].bar(mf.resids,NOE(tM,mf.tc,mf.A,v0H),color=cmap(k))\n",
    "    for a,exp in zip(ax0,[r'$R_2$',r'$R_1$','NOE']):\n",
    "        a.set_ylim([0,a.get_ylim()[1]])\n",
    "        a.set_ylabel(exp+r' / s$^{-1}$')\n",
    "    ax0[1].set_title(f'{v0H} MHz')\n",
    "for a in ax[-1]:a.set_xlabel('Residue')\n",
    "       \n",
    "for ax0,yl in zip(ax.T,[10,2.5,.2]):\n",
    "    for a in ax0:a.set_ylim([0,yl])\n",
    "    \n",
    "fig.tight_layout()"
   ]
  },
  {
   "cell_type": "markdown",
   "id": "2ec12be8",
   "metadata": {},
   "source": [
    "### Exercise 3.4\n",
    "How does each experiment change as a function of field, and what drives this behavior?\n"
   ]
  },
  {
   "cell_type": "markdown",
   "id": "bbb66c15",
   "metadata": {},
   "source": [
    "## Part 4: Comparing to experiment\n",
    "Above, we downloaded experimental relaxation rate constants from Charlier et al. Note that the correlation time of tumbling we used previously (4.84 ns) is extracted from this data set. Now we will compare these to our calculated results. Plotting is set up for you below.\n",
    "\n",
    "C. Charlier, S.N. Khan, T. Marquardsen, P. Pelupessy, V. Reiss, D. Sakellariou, G. Bodenhausen, F. Engelke, F. Ferrage. [*J. Am. Chem. Soc.*](https://doi.org/10.1021/ja409820g), **2013**, 135, 18665"
   ]
  },
  {
   "cell_type": "code",
   "execution_count": null,
   "id": "be11dd48",
   "metadata": {
    "tags": [
     "remove-output"
    ]
   },
   "outputs": [],
   "source": [
    "# Correlation time for ubiquitin already stored with NMR data\n",
    "tM=proj['NMR']['raw'][0].info['tM'][0]   #4.5 ns\n",
    "\n",
    "fig,ax=plt.subplots(3,3,figsize=[12,9],sharex=True)\n",
    "\n",
    "for k,(ax0,v0H) in enumerate(zip(ax,[600,800,950])):\n",
    "    i=np.argmax(np.logical_and(mf.nmr_data.info['v0']==v0H,mf.nmr_data.info['Type']=='R2'))\n",
    "    ax0[0].bar(mf.nmr_data.label,mf.nmr_data.R[:,i],color=cmap(k))\n",
    "    ax0[0].scatter(mf.resids,R2(tM,mf.tc,mf.A,v0H),s=5,color='black',zorder=10)\n",
    "    i=np.argmax(np.logical_and(mf.nmr_data.info['v0']==v0H,mf.nmr_data.info['Type']=='R1'))\n",
    "    ax0[1].bar(mf.nmr_data.label,mf.nmr_data.R[:,i],color=cmap(k))\n",
    "    ax0[1].scatter(mf.resids,R1(tM,mf.tc,mf.A,v0H),s=5,color='black',zorder=10)\n",
    "    i=np.argmax(np.logical_and(mf.nmr_data.info['v0']==v0H,mf.nmr_data.info['Type']=='NOE'))\n",
    "    ax0[2].bar(mf.nmr_data.label,mf.nmr_data.R[:,i],color=cmap(k))\n",
    "    ax0[2].scatter(mf.resids,NOE(tM,mf.tc,mf.A,v0H),s=5,color='black',zorder=10)\n",
    "    for a,exp in zip(ax0,[r'$R_2$',r'$R_1$','NOE']):\n",
    "        a.set_ylim([0,a.get_ylim()[1]])\n",
    "        a.set_ylabel(exp+r' / s$^{-1}$')\n",
    "    ax0[1].set_title(f'{v0H} MHz')\n",
    "for a in ax[-1]:a.set_xlabel('Residue')\n",
    "       \n",
    "for ax0,yl in zip(ax.T,[10,2.5,.2]):\n",
    "    for a in ax0:a.set_ylim([0,yl])\n",
    "    \n",
    "fig.tight_layout()"
   ]
  },
  {
   "cell_type": "markdown",
   "id": "9e110b21",
   "metadata": {},
   "source": [
    "### Exercise 4.1\n",
    "How do the results compare to experiment? What does this tell you about the quality of the MD simulation?"
   ]
  },
  {
   "cell_type": "markdown",
   "id": "7bee9553",
   "metadata": {},
   "source": [
    "### Exercise 4.2\n",
    "\n",
    "The object below (`mf_nmr`) allows model-free fitting of the *NMR* data. How many parameters (`n`) are sufficient to fit the data? Evaluate by eye via the `plot_rates` function and use the calculated value for $\\chi^2$"
   ]
  },
  {
   "cell_type": "code",
   "execution_count": 100,
   "id": "8220538d",
   "metadata": {},
   "outputs": [
    {
     "name": "stdout",
     "output_type": "stream",
     "text": [
      "\r",
      "Iterations |------------------------------| 0%  of 1 steps\r",
      "\r",
      "Iterations |██████████████████████████████| 100%  of 1 steps\r",
      "\r",
      "Iterations |██████████████████████████████| 100%  of 1 steps\r\n",
      "Completed\n",
      "Data already in project (index=22)\n",
      "207915.1\n"
     ]
    },
    {
     "data": {
      "image/png": "[encoded data removed]",
      "text/plain": [
       "<Figure size 792x648 with 9 Axes>"
      ]
     },
     "metadata": {
      "needs_background": "light"
     },
     "output_type": "display_data"
    }
   ],
   "source": [
    "mf_nmr=MF(Type='NMR',n=2)\n",
    "\n",
    "chi2=((mf_nmr.relax_rates-mf_nmr.nmr_data.R)**2/mf_nmr.nmr_data.Rstd**2).sum()\n",
    "print(f'chi^2: {chi2:.1f}')\n",
    "\n",
    "_=mf_nmr.plot_rates()"
   ]
  },
  {
   "cell_type": "markdown",
   "id": "92ed8592",
   "metadata": {},
   "source": [
    "### Exercise 4.3\n",
    "The following cell plots the model-free parameters used to fit the experimental data. Comment on the degree of scatter from one residue to the next (how noisy does the data look to you) compared to the relaxation rate constants themselves."
   ]
  },
  {
   "cell_type": "code",
   "execution_count": null,
   "id": "e62ad7f1",
   "metadata": {
    "tags": [
     "hide-output"
    ]
   },
   "outputs": [],
   "source": [
    "_=mf_nmr.plot_pars()"
   ]
  },
  {
   "cell_type": "markdown",
   "id": "55d4c455",
   "metadata": {},
   "source": [
    "## Part 5. Detector analysis of MD and NMR\n",
    "The noisiness of the model-free analysis above led us to develop a method called the *detector analysis* to treat relaxation data. We believe the key problem with model-free analysis is that protein motion is not well-described by a few correlation times, but is much more consistent with a broad distribution of correlation times. We've explored this topic throughout a number of publications and how to go about treating the data in such cases ([why model-free fails](https://doi.org/10.1002/anie.201707316), [further discussion](https://doi.org/10.3389/fmolb.2021.727553), [solution-state approach](https://doi.org/10.1063/1.5111081)).\n",
    "\n",
    "The basic idea is that rather than writing a sum of correlation times, we write a distribution:\n",
    "\n",
    "$$\n",
    "\\begin{eqnarray}\n",
    "C_{int.}(t)&=&S^2+(1-S^2)\\sum\\limits_i{A_i\\exp(-t/\\tau_i)} \\\\\n",
    "&=&S^2+(1-S^2)\\int\\limits_{-\\infty}^\\infty{\\theta(z)\\exp(-t/(10^z\\cdot s)dt}\n",
    "\\end{eqnarray}\n",
    "$$\n",
    "\n",
    "Technically, the two formulas are interchangeable, but the latter emphasizes the potential for a near-continuum of correlation times, which would require a summation of very many terms to represent with the former formula. \n",
    "\n",
    "In any case, we cannot fully parameterize such a model, so instead we capture motion within well-defined correlation time \"windows\", defined by the functions $\\rho_n(z)=\\rho_n(\\tau_c)$, where $z=\\log_{10}(\\tau_c)$.\n",
    "\n",
    "$$\n",
    "\\begin{eqnarray}\n",
    "\\rho_n^{(\\theta,S)}&=&(1-S^2)\\sum\\limits_i{A_i\\rho_n(\\tau_i)} \\\\\n",
    "&=&(1-S^2)\\int\\limits_{-\\infty}^\\infty{\\theta(z)\\rho_n(z)dz}\n",
    "\\end{eqnarray}\n",
    "$$\n",
    "\n",
    "Then, we parameterize our data with a number of these parameters, $\\rho_n^{(\\theta,S)}$, which give the amplitude of motion for a well-defined range of correlation times. Analysis is performed below with the pyDIFRATE software (a detailed tutorial on pyDIFRATE can be found [here](https://alsinmr.github.io/pyDR)."
   ]
  },
  {
   "cell_type": "markdown",
   "id": "6513f482",
   "metadata": {},
   "source": [
    "### Detector analysis\n",
    "We start from scratch so you can see that this process is relatively straightforward (of course, the software itself is doing a lot, but for the user it is not too difficult). Data will be stored in a *project* (`proj`)"
   ]
  },
  {
   "cell_type": "markdown",
   "id": "a37ea6a8",
   "metadata": {},
   "source": [
    "#### Step 1: Process NMR\n",
    "The key steps are\n",
    "* Make a project, download the data\n",
    "* Adjust the correlation time of tumbling (not always necessary)\n",
    "* Set up detectors (here, we use 5 detectors)\n",
    "* fit the data\n",
    "* plot the data"
   ]
  },
  {
   "cell_type": "code",
   "execution_count": 78,
   "id": "52752194",
   "metadata": {},
   "outputs": [],
   "source": [
    "# Create a project for data storate\n",
    "proj=pyDR.Project()\n",
    "# Download the data\n",
    "proj.append_data('https://raw.githubusercontent.com/alsinmr/pyDR_tutorial/main/data/ubi_soln.txt')\n",
    "# Adjust the correlation time of tumbling\n",
    "proj[0].sens.info['tM']=4.5e-9\n",
    "# Use 5 detectors for analysis\n",
    "proj['NMR'].detect.r_auto(5)\n",
    "# Fit the NMR data\n",
    "proj['NMR'].fit()\n",
    "# Plot the result\n",
    "proj['proc']['NMR'].plot(style='bars')\n",
    "# Show correlation times, Adjust the figure size\n",
    "proj.plot_obj.show_tc()\n",
    "proj.fig.set_size_inches([6,8])"
   ]
  },
  {
   "cell_type": "markdown",
   "id": "79c7ec69",
   "metadata": {},
   "source": [
    "#### Step 2: Process MD\n",
    "The key steps are:\n",
    "* Load the MD trajectory (aligned) as a MolSelect object\n",
    "* Select the desired bonds to analyze\n",
    "* Load correlation functions into a data object (stored in `proj`)\n",
    "* Set up detectors (here use 7, but match the first five to the NMR sensitivities with `r_target`)\n",
    "* Fit the data\n",
    "* Optimize the fit (optional)\n",
    "* Plot the results"
   ]
  },
  {
   "cell_type": "code",
   "execution_count": null,
   "id": "e7927db3",
   "metadata": {},
   "outputs": [],
   "source": [
    "# Create MolSelect object\n",
    "sel=pyDR.MolSelect(topo='ubi.pdb',traj_files='ubi_aligned.xtc',project=proj)\n",
    "# Select the desired bonds\n",
    "sel.select_bond('15N')\n",
    "# Load correlation functions \n",
    "#(because proj was assigned to sel, result goes into proj automatically)\n",
    "pyDR.md2data(sel)\n",
    "# Get NMR sensitivity as target for MD sensitivity\n",
    "target=proj['NMR']['proc'].sens.rhoz\n",
    "# Optimize detectors for MD\n",
    "proj['MD'].detect.r_target(target=target,n=7)\n",
    "# Fit and then optimize the fit\n",
    "proj['MD'].fit().opt2dist(rhoz=target)"
   ]
  },
  {
   "cell_type": "code",
   "execution_count": 80,
   "id": "77f42e67",
   "metadata": {},
   "outputs": [
    {
     "data": {
      "image/png": "[encoded data removed]",
      "text/plain": [
       "<Figure size 432x576 with 6 Axes>"
      ]
     },
     "metadata": {
      "needs_background": "light"
     },
     "output_type": "display_data"
    }
   ],
   "source": [
    "#Plot the results (bars are experiment, lines are simulation)\n",
    "proj.close_fig('all')      #in pyDR, projects manage the figures\n",
    "proj['proc']['NMR'].plot(style='bar')\n",
    "proj['opt_fit']['MD'].plot()\n",
    "proj.plot_obj.show_tc()\n",
    "proj.plot_obj.fig.set_size_inches([6,8])"
   ]
  },
  {
   "cell_type": "markdown",
   "id": "8daa8fb3",
   "metadata": {},
   "source": [
    "### Exercise 5.1\n",
    "The bar plots above represent the amplitude of motion for experimental data and the black line plots represent MD data. Around what correlation times do we have good agreement, poor agreement, and ok agreement. What does this tell you about the NMR and MD data quality?\n",
    "\n",
    "\n",
    "### Exercise 5.2\n",
    "Which do you consider more stable, the detector parameters ($\\rho_n^{(\\theta,S)}$) or the model-free parameters? Which parameters give you a more physical understanding of the motion?"
   ]
  },
  {
   "cell_type": "code",
   "execution_count": null,
   "id": "9c9eb160",
   "metadata": {},
   "outputs": [],
   "source": []
  }
 ],
 "metadata": {
  "celltoolbar": "Tags",
  "kernelspec": {
   "display_name": "Python 3",
   "language": "python",
   "name": "python3"
  },
  "language_info": {
   "codemirror_mode": {
    "name": "ipython",
    "version": 3
   },
   "file_extension": ".py",
   "mimetype": "text/x-python",
   "name": "python",
   "nbconvert_exporter": "python",
   "pygments_lexer": "ipython3",
   "version": "3.7.3"
  }
 },
 "nbformat": 4,
 "nbformat_minor": 5
}