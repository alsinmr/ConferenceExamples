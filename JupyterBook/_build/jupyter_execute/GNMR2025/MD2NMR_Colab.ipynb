{
 "cells": [
  {
   "cell_type": "markdown",
   "id": "55cce6ed",
   "metadata": {},
   "source": [
    "\n",
    "# <font color=#2e86c1> Calculating NMR Parameters from MD Simulations 1: S$^2$ and C(t) </font>  "
   ]
  },
  {
   "cell_type": "markdown",
   "id": "a03eb469",
   "metadata": {},
   "source": [
    "## Setup"
   ]
  },
  {
   "cell_type": "code",
   "execution_count": 3,
   "id": "02ec1410",
   "metadata": {},
   "outputs": [],
   "source": [
    "# Make sure pyDR is installed and on the path\n",
    "import sys\n",
    "import os\n",
    "if 'google.colab' in sys.modules: #Colab\n",
    "    !git clone https://github.com/alsinmr/pyDR\n",
    "else:\n",
    "    os.chdir('../../..')"
   ]
  },
  {
   "cell_type": "code",
   "execution_count": 4,
   "id": "c9940b61",
   "metadata": {},
   "outputs": [],
   "source": [
    "# Imports\n",
    "import pyDR\n",
    "vft=pyDR.MDtools.vft  #Set of tools for dealing with vectors\n",
    "import numpy as np\n",
    "import matplotlib.pyplot as plt\n",
    "import MDAnalysis as mda\n",
    "from time import time"
   ]
  },
  {
   "cell_type": "code",
   "execution_count": 5,
   "id": "664e5954",
   "metadata": {},
   "outputs": [],
   "source": [
    "# Downloads\n",
    "xtc='https://drive.google.com/file/d/1wq5T-YDmPo2zAIWu9we2zyL2i-v52fnD/view?usp=sharing'\n",
    "pdb='https://drive.google.com/file/d/1aBMUO2C1AZfx05dANl4QITHuqmHbDDsN/view?usp=sharing'\n",
    "\n",
    "if not(os.path.exists('ubi.pdb')):\n",
    "    pyDR.IO.download(pdb,'ubi.pdb')\n",
    "if not(os.path.exists('ubi.xtc')):\n",
    "    pyDR.IO.download(xtc,'ubi.xtc')"
   ]
  },
  {
   "cell_type": "markdown",
   "id": "8ac8d47e",
   "metadata": {},
   "source": [
    "In this tutorial, we want to calculate relaxation rate constants induced by reorientational motion of some NMR interaction tensor. We will consider $^{15}$N relaxation in the protein ubiquitin, where relaxation is induced by reorientation of the H–N dipole coupling and the $^{15}$N chemical shift anisotropy. The dipole coupling is parallel to the H–N bond, and the CSA can be approximated as parallel to this bond (in reality, it is about 23 $^\\circ$ away, but the reorientational motion it experiences is about the same as the bond itself).\n",
    "\n",
    "Then, we need to first extract the bond vectors, calculate order parameters and correlation functions, parameterize them, and calculate either rate constants directly, or compare parameters derived from NMR to parameters derived from MD."
   ]
  },
  {
   "cell_type": "markdown",
   "id": "f41241d5",
   "metadata": {},
   "source": [
    "## Part 1: The correlation function"
   ]
  },
  {
   "cell_type": "markdown",
   "id": "1200b10a",
   "metadata": {},
   "source": [
    "As a brief review, we want to calculate order parameters and correlation functions from MD. For a normalized vector that gives the direction of an NMR tensor as a function of time ($\\vec{v}(t)=[x(t),y(t),z(t)]$), we have for the correlation function:\n",
    "\n",
    "$$\n",
    "\\begin{eqnarray}\n",
    "C(t)&=&\\left\\langle P_2(\\cos\\beta_{\\tau,t+\\tau})\\right\\rangle_\\tau \\\\\n",
    "P_2&=&\\frac{3x^2-1}{2} \\\\\n",
    "\\cos\\beta_{\\tau,t+\\tau}&=&\\vec{v}(\\tau)\\cdot\\vec{v}(t+\\tau) \\\\\n",
    "&=&\\sum\\limits_{\\alpha=x,y,z}{\\alpha(\\tau)\\alpha(t+\\tau)}\n",
    "\\end{eqnarray}\n",
    "$$\n",
    "\n",
    "The brackets $\\langle ...\\rangle_\\tau$ indicate an average over $\\tau$, where $C(t)$ is an average over all time points separated by $t$. $\\cos\\beta_{\\tau,t+\\tau}$ can be obtained from the dot-product of the normalized vectors at times $\\tau$ and $t+\\tau$."
   ]
  },
  {
   "cell_type": "markdown",
   "id": "1842a27e",
   "metadata": {},
   "source": [
    "The formula for $C(t)$ can be expanded and expressed as a sum of linear correlation functions, which will later be useful for faster calculations. Perform the steps below (check your results as you go)\n",
    "\n",
    "### Exercise 1.1\n",
    "Insert the summation for $x$ into $P2(...)$, and insert $P2(...)$ into the average brackets. Note that for an average, if we have constants $a$ and $b$, and variable $x$, then $\\left\\langle a+bx\\right\\rangle=a+b\\langle x\\rangle$. Apply this simplification for your result.\n",
    "\n",
    "\n",
    "### Exercise 1.2 \n",
    "A squared summation may be expanded by introducing a new index and summing over both indices, taking products of all terms, e.g. for $(\\sum\\limits_i{x_i})^2=\\sum\\limits_i{\\sum\\limits_j{x_ix_j}}$. Do this for the squared term above (you should have a double summation over $\\alpha$ and $\\beta$).\n",
    "\n",
    "\n",
    "### Exercise 1.3\n",
    "Finally, when we have the expectation value of a summation, this can be written as a sum of expectation values: $\\left\\langle\\sum\\limits_i{x_i}\\right\\rangle=\\sum\\limits_i{\\langle x_i\\rangle}$. Rewrite the total correlation function as a linear combination of linear correlation functions using this relationship.\n"
   ]
  },
  {
   "cell_type": "markdown",
   "id": "dc6aeabe",
   "metadata": {},
   "source": [
    "## Part 2: Extract vectors\n",
    "In this section, we need to get bond vectors for the H-N bonds that can be used for calculating the correlation function. \n",
    "\n",
    "Note that when calculating a bond's orientation, one needs to make sure that it is not split over the MD simulation's box (i.e. periodic boundary conditions). In this simulation, we use a molecule that has been made \"whole\", so that this is already fixed.\n",
    "\n",
    "In some simulations, it may also be important to remove overall motion of the molecule, i.e. translation and rotation, by aligning it to a reference structure. If we remove this motion, then we should also remove it from the experimental data. For example, in solution NMR, usually it is best to solve for the total rotation of the molecule and factor out this motion for analysis, and also align the molecule in MD. Alternatively, we can leave the tumbling in both simulation and experimnt, but then we need to be sure the overall motion in MD is accurate, otherwise it will be a major source of error. On the other hand, for molecules like lipids in membranes, usually we want to keep the overall motion and so will not perform an alignment step. For intrinsically disordered proteins (IDPs), the overall motion presents a particular challenge because it can be hard to reproduce, but it is also not really possible to separate internal from overall motion in IDPs.\n",
    "\n",
    "Below, we'll calculate correlation functions and order parameters with and without removing the overall motion."
   ]
  },
  {
   "cell_type": "markdown",
   "id": "44fb8b91",
   "metadata": {},
   "source": [
    "[MDAnalysis](https://www.mdanalysis.org/) is a frame reader. One provides it with the location of a topology (that is, a file that tells how atoms in a system are bonded together, possibly containing multiple molecules), and a trajectory, which is a list of positions of those atoms as a function of time. The frame reader reads out the positions of those atoms (or a subset of those atoms as instructed) for a given frame. In MDanalysis, one has a universe *object* which gives access to all information about the simulation. Within the universe, one finds the \"trajectory\" object, which may be indexed to go to different frames in the trajectory. One may create atom groups from the universe, which then return positions of only selected atoms."
   ]
  },
  {
   "cell_type": "code",
   "execution_count": 6,
   "id": "88fed687",
   "metadata": {},
   "outputs": [],
   "source": [
    "uni0=mda.Universe('ubi.pdb','ubi.xtc')"
   ]
  },
  {
   "cell_type": "markdown",
   "id": "c3abadc9",
   "metadata": {},
   "source": [
    "### Part 2.1 Align molecules"
   ]
  },
  {
   "cell_type": "markdown",
   "id": "d02c4eb2",
   "metadata": {},
   "source": [
    "When we analyze an MD simulation, sometimes some preparation of the simulation is required. For example, if we are interested in studying internal motion of a protein, then we need to be aware if the protein is tumbling in solution. For a membrane protein, it will usually not be tumbling isotropically, although it may move within the membrane. Then, the question arises if we want to include this overall motion in our analysis, or exclude it via alignment of the molecule.\n",
    "\n",
    "### Exercise 2.1\n",
    "What type of biomolecules would you want to include overall motion, i.e. not apply alignment of the molecule?\n",
    "\n",
    "\n",
    "A second concern is the periodic boundary condition (PBC) used in MD simulations. For an MD simulation, we have to restrict the simulation to a box. When an atom reaches the end of the box, it does not interact with a wall or a vacuum, but rather it interacts with atoms on the opposite side of the box. This is a convenient trick for keeping realistic interactions without requiring an extremely large system. However, a molecule may well be split across the box. This does not impact the simulation in any negative way, but makes the direction of a bond ill-defined. One may either prepare the simulation before analysis such that the molecule of interest stays \"whole\" or \"centered\", both usually avoid this problem. Alternatively, one may correct for bonds split across the box during analysis (pyDR, which we use later, treats the PBC automatically. It does not automatically handle alignment)."
   ]
  },
  {
   "cell_type": "markdown",
   "id": "9b96d67d",
   "metadata": {},
   "source": [
    "### Exercise 2.2\n",
    "The following code aligns a molecule in a trajectory (assuming it is already made \"whole\", with no atoms crossing the periodic boundary condition), and writes it into a new file. When we align a molecule, we need to move atoms in the simulation to the center (translation), and turn them so that reference atoms are aligned (rotation). Which lines below achieve translation and rotation?\n",
    "\n",
    "\n",
    "Note that the rotational alignment below is achieved with the [Kabsch Algorithm](https://en.wikipedia.org/wiki/Kabsch_algorithm)."
   ]
  },
  {
   "cell_type": "code",
   "execution_count": 7,
   "id": "0c52c228",
   "metadata": {},
   "outputs": [],
   "source": [
    "def align(uni,fileout='ubi_aligned.xtc',ref_sel='name CA'):\n",
    "    \"\"\"\n",
    "    This function takes a trajectory and aligns it based on\n",
    "    a reference selection of atoms. The new trajectory is\n",
    "    returned in fileout (default is ubi_aligned.xtc)\n",
    "    \"\"\"\n",
    "    \n",
    "    from scipy.linalg import svd\n",
    "    \n",
    "    uni.trajectory[0] #Go to the first frame of the trajectory\n",
    "    atoms=uni.atoms   #All atoms in the trajectory\n",
    "    ref_sel=uni.select_atoms(ref_sel)  #Atom group for the reference\n",
    "    \n",
    "    ref0=ref_sel.positions #initial positions of reference atoms\n",
    "    ref0-=ref0.mean(0) #Centers the initial position\n",
    "    \n",
    "    with mda.Writer(fileout,atoms.n_atoms) as W:\n",
    "        for ts in uni.trajectory:\n",
    "            ref=ref_sel.positions\n",
    "            pos=atoms.positions\n",
    "\n",
    "            pos-=ref.mean(0)   #This centers the atoms\n",
    "            ref-=ref.mean(0)   #This centers the reference\n",
    "            \n",
    "            H=ref0.T@ref       #3x3 matrix\n",
    "            U,S,Vt=svd(H)      #Singular value decomposition\n",
    "            V=Vt.T             #Transposes\n",
    "            Ut=U.T\n",
    "\n",
    "            R=V@Ut             #Rotation matrix for alignment\n",
    "            \n",
    "            pos_corr=(R.T@pos.T).T\n",
    "            atoms.positions=pos_corr\n",
    "            \n",
    "            W.write(atoms)\n",
    "    return"
   ]
  },
  {
   "cell_type": "code",
   "execution_count": 8,
   "id": "0d3c6157",
   "metadata": {},
   "outputs": [],
   "source": [
    "align(uni0,'ubi_aligned.xtc')   #Runs the code to align Ubiquitin in the universe"
   ]
  },
  {
   "cell_type": "code",
   "execution_count": 9,
   "id": "3b7f4093",
   "metadata": {},
   "outputs": [],
   "source": [
    "uni=mda.Universe('ubi.pdb','ubi_aligned.xtc')  #Loads the aligned trajectory"
   ]
  },
  {
   "cell_type": "markdown",
   "id": "50cc28b6",
   "metadata": {},
   "source": [
    "### Part 2.2 Extract vectors"
   ]
  },
  {
   "cell_type": "markdown",
   "id": "68ef930e",
   "metadata": {},
   "source": [
    "We're interested in reorientational motion of the H–N dipole coupling (and $^{15}$N CSA, but we'll assume this motion is also defined by the dipole). Then, we can define the dipole tensor's direction from the H–N bond vector. We first select atoms below (names N and H), noting that we have to be careful not to use the first residue, which does not have an \"H\" type atom, and also avoid prolines."
   ]
  },
  {
   "cell_type": "code",
   "execution_count": 10,
   "id": "c0855b8b",
   "metadata": {},
   "outputs": [
    {
     "name": "stdout",
     "output_type": "stream",
     "text": [
      "The shape of v is 19401x72x3, corresponding to time, bonds, and (x,y,z)\n"
     ]
    }
   ],
   "source": [
    "# We will let N and H define our bonds\n",
    "def load_v(uni):\n",
    "    N=uni.select_atoms('name N and not resname PRO and resid 2-76') #Only nitrogen with bound 1H\n",
    "    H=uni.select_atoms('name H and resid 2-76')\n",
    "    resi=N.resids\n",
    "\n",
    "    v=[]   #Storage for bond vectors\n",
    "    for k in range(len(uni.trajectory)):\n",
    "        uni.trajectory[k]\n",
    "        v.append(H.positions-N.positions) #N x 3 vector\n",
    "    return resi,np.array(v)  #This creates a numpy array, which is nicer for calculation\n",
    "    \n",
    "resi,v=load_v(uni)\n",
    "print(f'The shape of v is {v.shape[0]}x{v.shape[1]}x{v.shape[2]}, corresponding to time, bonds, and (x,y,z)')"
   ]
  },
  {
   "cell_type": "markdown",
   "id": "22315bb0",
   "metadata": {},
   "source": [
    "### Exercise 2.3\n",
    "Which line in the above code goes to the correct frame in the trajectory?\n",
    "\n",
    "\n",
    "What happens to H.positions or N.positions if you put different values in where `k` is?\n"
   ]
  },
  {
   "cell_type": "code",
   "execution_count": 11,
   "id": "8ced492d",
   "metadata": {},
   "outputs": [],
   "source": [
    "# Use this cell to experiment with the frame reader"
   ]
  },
  {
   "cell_type": "markdown",
   "id": "e64db81c",
   "metadata": {},
   "source": [
    "### Part 2.3 Normalize vectors\n",
    "Note that depending how a trajectory is stored, it may also be necessary to perform periodic boundary condition corrections. For this trajectory, it is not necessary.\n",
    "\n",
    "\n",
    "### Exercise 2.4\n",
    "However, we do need to have normalized bond vectors in order to calculate the desired correlation functions. Below, a function is started for you to perform this normalization. To complete the function, you need to calculate the length of all vectors. The *x*-, *y*-, and *z*- components of the vector may be accessed via `v[:,:,0]`, `v[:,:,1]`, and `v[:,:,2]` respectively (dimensions are time, bond, and axis, so we need to access the last axis). Note that in Python, `**` raises a value to a power, and `np.sqrt()` can be used to calculate the square root."
   ]
  },
  {
   "cell_type": "code",
   "execution_count": null,
   "id": "ce0bc465",
   "metadata": {},
   "outputs": [],
   "source": [
    "def norm(v):\n",
    "    lv=                   #Length of the vectors goes here\n",
    "    return (v.T/lv.T).T   #Normalize v (transposes required to correctly use \"broadcasting\")\n",
    "\n",
    "v=norm(v)"
   ]
  },
  {
   "cell_type": "markdown",
   "id": "0bccadb3",
   "metadata": {},
   "source": [
    "## Part 3: Order Parameters"
   ]
  },
  {
   "cell_type": "markdown",
   "id": "f29ff16b",
   "metadata": {},
   "source": [
    "Based on the vectors calculated in the previous section, we are now ready to calculate order parameters. \n",
    "\n",
    "Order parameters can be somewhat tricky in NMR, because in fact we have two different definitions for the order parameter. The first is that $S^2$ is the limit of the correlation function above, as $t$ approaches infinity\n",
    "\n",
    "$$\n",
    "S^2=\\lim_{t\\rightarrow\\infty}{C(t)}\n",
    "$$\n",
    "\n",
    "The second definition defines $S$, we'll denote it as $S_{resid.}$ for clarity, and is given by:\n",
    "$$\n",
    "S_{resid.}=\\frac{\\delta}{\\delta_{rigid}}\n",
    "$$\n",
    "\n",
    "$\\delta$ is the motionally averaged anisotropy of an NMR interaction, whereas $\\delta_{rigid}$ is the rigid limit of that interaction.\n",
    "\n",
    "Typically, these two values are very similar ($S_{resid.}^2\\approx S^2$), but they do not need to be exactly the same."
   ]
  },
  {
   "cell_type": "markdown",
   "id": "94ce5a85",
   "metadata": {},
   "source": [
    "To derive a formula for $S^2$, we start from the definition of the correlation function above.\n",
    "\n",
    "$$\n",
    "\\begin{eqnarray}\n",
    "S^2=\\lim_{t\\rightarrow\\infty}{C(t)}&=&\\lim_{t\\rightarrow\\infty}{\\left(-\\frac12+\\frac32\\sum\\limits_{\\alpha=x,y,z}{\\sum\\limits_{\\beta=x,y,z}{\\left\\langle\\alpha(\\tau)\\alpha(t+\\tau)\\beta(\\tau)\\beta(t+\\tau)\\right\\rangle_\\tau}}\\right)}\n",
    "\\end{eqnarray}\n",
    "$$\n",
    "\n",
    "The term $\\langle \\alpha(\\tau)\\beta(\\tau)\\alpha(t+\\tau)\\beta(t+\\tau)\\rangle$ is related to the correlation of $\\alpha(\\tau)\\beta(\\tau)$ with itself two times with infinite separation between them. Due to the infinite time separation, the correlation must go to zero. Then, for uncorrelated variables $x$ and $y$, we have the following relationship: $\\langle xy\\rangle=\\langle x\\rangle\\langle y\\rangle$. \n",
    "\n",
    "### Exercise 3.1\n",
    "Use this relationship to rewrite the formula above.\n",
    "\n",
    "\n",
    "In your answer above, the term $\\langle \\alpha(t+\\tau)\\beta(t+\\tau)\\rangle_\\tau$ should occur. The $\\langle ...\\rangle_\\tau$ indicates an average over all times. Then $t$ just shifts the times, but we still average over all times, so the term $t$ may be dropped. \n",
    "\n",
    "### Exercise 3.2\n",
    "Simplify the formula based on this information. Note that if $t$ does not appear in the formula anymore, then one may also drop the limit for $t\\rightarrow\\infty$\n",
    "\n",
    "\n",
    "For the latter formula ($S_{resid.}$), we must calculate the dipole tensor for all frames, take its average, and extract the anisotropy of the resulting averaged tensor. \n",
    "\n",
    "We introduce functions below for performing both calculations."
   ]
  },
  {
   "cell_type": "code",
   "execution_count": 14,
   "id": "1e215b48",
   "metadata": {},
   "outputs": [],
   "source": [
    "def S2(v):\n",
    "    v=v.T #Make sure first dimension is x,y,z\n",
    "    S2=-1/2\n",
    "    for alpha in v:      #Loop over x,y,z\n",
    "        for beta in v:  #Loop over x,y,z\n",
    "            S2+=3/2*(alpha*beta).mean(axis=-1)**2\n",
    "    return S2\n",
    "\n",
    "def Sresid(v):\n",
    "    v=v.T\n",
    "    euler=vft.getFrame(v)\n",
    "    A=vft.pars2Spher(1,0,*euler)   #We can set the reference value here to 1\n",
    "    Aavg=A.mean(axis=-1)\n",
    "    delta,eta,*euler=vft.Spher2pars(Aavg) #Then, delta is delta/delta_rigid\n",
    "    return delta"
   ]
  },
  {
   "cell_type": "markdown",
   "id": "2d42e40c",
   "metadata": {},
   "source": [
    "### Exercise 3.3\n",
    "Variables `a` and `b` should store the results for calculating $S^2$ (the limit of the correlation function for $t\\rightarrow\\infty$), and $S^2_{resid.}$ (calculated from the residual dipole coupling). Compare the two definitions of the order parameter."
   ]
  },
  {
   "cell_type": "code",
   "execution_count": null,
   "id": "a92f9207",
   "metadata": {},
   "outputs": [],
   "source": [
    "a=    #Calculation for S2 here\n",
    "b=   #Calculation for (Sresid)^2 here\n",
    "\n",
    "ax=plt.subplots()[1]\n",
    "ax.plot(resi,a,color='red')\n",
    "ax.plot(resi,b,color='black',linestyle='--')\n",
    "ax.set_ylim([0,1])\n",
    "ax.set_xlabel('Residue')\n",
    "ax.legend((r'$S^2$',r'$S^2_{resid.}$'))\n",
    "_=ax.set_ylabel(r'$S^2$')"
   ]
  },
  {
   "cell_type": "markdown",
   "id": "98a86513",
   "metadata": {},
   "source": [
    "If our motion has a symmetry axis (3-fold or higher), then $S^2=(S_{resid.})^2$, whereas otherwise, this relationship is only approximate. Note that if our motion has a symmetry axis, and we know the direction of that axis, then we may define $\\beta$ as the angle between the tensor and the symmetry axis, in which case\n",
    "\n",
    "$$\n",
    "\\begin{eqnarray}\n",
    "S^2=(S_{resid.})^2&=&\\left\\langle\\frac{3\\cos^2\\beta_{sym.}-1}{2}\\right\\rangle_\\tau^2 \\\\\n",
    "&=&\\left\\langle\\frac{3z_{sym.}^2-1}{2}\\right\\rangle_\\tau^2\n",
    "\\end{eqnarray}\n",
    "$$\n",
    "\n",
    "Here, $z_{sym.}$ is the projection of the normalized tensor direction onto the symmetry axis, which gives the cosine of the angle between the symmetry axis and the tensor. This is particularly useful in lipid membranes, where we know that the lipid rotates around the membrane normal and so the motion is necessarily symmetric around the normal.\n",
    "\n",
    "### Exercise 3.4\n",
    "What, approximately, is the asymmetry parameter ($\\eta$) for residual dipole couplings used to calculate $S_{resid}$ above? \n",
    "\n",
    "Bonus points: Plot the asymmetry"
   ]
  },
  {
   "cell_type": "code",
   "execution_count": 27,
   "id": "c2339245",
   "metadata": {},
   "outputs": [],
   "source": [
    "# Use this cell for plotting the asymmetry"
   ]
  },
  {
   "cell_type": "markdown",
   "id": "165478c4",
   "metadata": {},
   "source": [
    "### Exercise 2.2 Repeat with un-aligned trajectory\n",
    "Repeat the above calculation of the order parameters, but use uni0, which contains the unaligned trajectory. Explain the result."
   ]
  },
  {
   "cell_type": "code",
   "execution_count": null,
   "id": "a2fa37b0",
   "metadata": {},
   "outputs": [],
   "source": [
    "_,v0=load_v(uni0)\n",
    "v0=norm(v0)\n",
    "\n",
    "..."
   ]
  },
  {
   "cell_type": "markdown",
   "id": "97403de3",
   "metadata": {},
   "source": [
    "## Part 4: Correlation functions"
   ]
  },
  {
   "cell_type": "markdown",
   "id": "cb8ddf52",
   "metadata": {},
   "source": [
    "Below, we provide two functions for calculating a linear correlation function (the correlation function we require is not linear, but can be recast as a sum of linear correlation functions). The first calculates the correlation function simply according to its definition, the second uses the fast-Fourier transform.\n",
    "\n",
    "### Exercise 4.1\n",
    "Test the two functions and see which one is faster. We need, for example, the correlation function $\\langle x(\\tau)y(\\tau)x(t+\\tau)y(t+\\tau)\\rangle$, which is the autocorrelation function for $x(t)y(t)$, which can be obtained by inserting `v[:,0]*v[:,1]` into the functions. By how much is it faster? You can sandwich your code as follows to get the time:\n",
    "\n",
    "```\n",
    "t0=time()\n",
    "...\n",
    "print(time()-t0)\n",
    "```\n",
    "\n",
    "Bonus: Why is this code faster? And why can we use the Fourier transform to get a correlation function?\n"
   ]
  },
  {
   "cell_type": "code",
   "execution_count": 19,
   "id": "30f1e4e6",
   "metadata": {},
   "outputs": [],
   "source": [
    "# Classic approach for calculating a linear correlation function\n",
    "def ct_lin(x):\n",
    "    x=x.T                     #We want the time axis to come first\n",
    "    ct=[]                     #list to store the correlation function\n",
    "    for k in range(len(x)):   #Loop over all time points\n",
    "        if k==0:              #Indexing below will fail for k==0, so make special case\n",
    "            ct.append((x**2).mean(axis=0))   #k==0 pairs all elements with themselves, takes mean\n",
    "        else:\n",
    "            ct.append((x[:-k]*x[k:]).mean(axis=0)) #Pairs each element with term k elements later\n",
    "    return np.array(ct).T     #Turn into a numpy array for easier calculation, tranpose\n",
    "\n",
    "# Fourier transform-based approach for calculating a linear correlation function\n",
    "def ct_ft(x):\n",
    "    sz=x.shape[-1]\n",
    "    X=np.fft.fft(x,n=sz*2)\n",
    "    \n",
    "    ct=np.fft.ifft(X.conj()*X)[:,:sz].real.T\n",
    "    return ct.T/np.arange(sz,0,-1)"
   ]
  },
  {
   "cell_type": "code",
   "execution_count": 20,
   "id": "eb811f96",
   "metadata": {},
   "outputs": [],
   "source": [
    "# Run your calculations here"
   ]
  },
  {
   "cell_type": "markdown",
   "id": "2817d95f",
   "metadata": {},
   "source": [
    "### Exercise 4.2\n",
    "Finish the function below to get the total correlation function (you will need the answer to exercise 1.3). The `+=` sign adds whatever is right of the equals sign to the variable itself (`ct+=x` is equivalent to `ct=ct+x`). Which linear correlation function should you use? Note that we take the transpose of the matrix at the beginning, so the first dimension of the vectors, `v`, corresponds to x (`v[0]`), y (`v[1]`), and z (`v[2]`)."
   ]
  },
  {
   "cell_type": "code",
   "execution_count": null,
   "id": "c77eb2af",
   "metadata": {},
   "outputs": [],
   "source": [
    "def Ct(v):\n",
    "    v=v.T\n",
    "    ct=-1/2*np.ones(v.shape[1:])\n",
    "    \n",
    "    # Add up 9 linear correlation functions\n",
    "    for k in range(3):\n",
    "        for j in range(3):  \n",
    "            ct+=\n",
    "    return ct"
   ]
  },
  {
   "cell_type": "code",
   "execution_count": 23,
   "id": "203ce32c",
   "metadata": {},
   "outputs": [
    {
     "name": "stdout",
     "output_type": "stream",
     "text": [
      "2.038931369781494\n"
     ]
    }
   ],
   "source": [
    "s2=S2(v)\n",
    "t0=time()\n",
    "ct=Ct(v)\n",
    "t=np.arange(len(uni.trajectory))*uni.trajectory.dt/1e3  #Time axis in nanoseconds\n",
    "print(time()-t0)"
   ]
  },
  {
   "cell_type": "markdown",
   "id": "cfcfe30e",
   "metadata": {},
   "source": [
    "Selected correlation functions are plotted below, along with the order parameters as dashed lines. The code `resi[0:-1:8]` goes from the first residue to the last residue, in steps of 8. You can look at other residues by changing this (`resi[0:9:1]` shows you the first 8 residues, `resi[-9:]` shows you the last 9 residues, and so on). You may also need to adjust the y-limits if you select different residues (last line).\n",
    "\n",
    "Note that if your correlation functions do not start at 1, and do not end at approximately the order parameter, then you need to re-check your correlation function definition."
   ]
  },
  {
   "cell_type": "code",
   "execution_count": null,
   "id": "8a5b61bd",
   "metadata": {
    "tags": [
     "hide-output"
    ]
   },
   "outputs": [],
   "source": [
    "fig,ax=plt.subplots(3,3,sharex=True,sharey=True,figsize=[12,8])\n",
    "ax=ax.flatten()\n",
    "for r,a in zip(resi[::8],ax):\n",
    "    a.plot(t,ct[resi==r].flatten())\n",
    "    a.plot(t[[0,-1]],s2[resi==r].flatten()*np.ones(2),color='black',linestyle=':')\n",
    "    a.text(10,.7,f'Resi.: {r}')\n",
    "    if a.is_last_row():\n",
    "        a.set_xlabel(r'$t$ / ns')\n",
    "    if a.is_first_col():\n",
    "        a.set_ylabel(r'$C(t)$')\n",
    "    \n",
    "_=ax[0].set_ylim([0.5,1])"
   ]
  },
  {
   "cell_type": "markdown",
   "id": "d65cd2ad",
   "metadata": {},
   "source": [
    "### Exercise 4.3\n",
    "Why do the correlation functions become noisy towards the end?\n"
   ]
  },
  {
   "cell_type": "markdown",
   "id": "8926aa8b",
   "metadata": {},
   "source": [
    "### Include tumbling\n",
    "Below, we compare to the correlation function with tumbling"
   ]
  },
  {
   "cell_type": "code",
   "execution_count": 25,
   "id": "3307dd01",
   "metadata": {},
   "outputs": [],
   "source": [
    "ct0=Ct(v0)"
   ]
  },
  {
   "cell_type": "code",
   "execution_count": 26,
   "id": "aea500b6",
   "metadata": {},
   "outputs": [
    {
     "data": {
      "image/png": "[encoded data removed]",
      "text/plain": [
       "<Figure size 864x576 with 9 Axes>"
      ]
     },
     "metadata": {
      "needs_background": "light"
     },
     "output_type": "display_data"
    }
   ],
   "source": [
    "fig,ax=plt.subplots(3,3,sharex=True,sharey=True,figsize=[12,8])\n",
    "ax=ax.flatten()\n",
    "for r,a in zip(resi[::8],ax):\n",
    "    a.plot(t,ct[resi==r].flatten())\n",
    "    a.plot(t,ct0[resi==r].flatten())\n",
    "    a.plot(t[[0,-1]],s2[resi==r].flatten()*np.ones(2),color='black',linestyle=':')\n",
    "    a.text(10,.7,f'Resi.: {r}')\n",
    "    if a.is_last_row():\n",
    "        a.set_xlabel(r'$t$ / ns')\n",
    "    if a.is_first_col():\n",
    "        a.set_ylabel(r'$C(t)$')\n",
    "ax[0].set_ylim([-.2,1])\n",
    "_=ax[0].set_xlim([-.1,200])"
   ]
  },
  {
   "cell_type": "markdown",
   "id": "a8bc4033",
   "metadata": {},
   "source": [
    "### Exercise 4.4\n",
    "What is different about the correlation functions with tumbling? Estimate the correlation time of tumbling from the correlation functions. This is roughly when the correlation function crosses $1/e=0.37$. You may want to adjust the x-limit of the plot to see this better. Technically, you should look for $S^2/e$, but for our purposes, 1/e is sufficient."
   ]
  },
  {
   "cell_type": "code",
   "execution_count": null,
   "id": "5b2a3d15",
   "metadata": {},
   "outputs": [],
   "source": []
  }
 ],
 "metadata": {
  "celltoolbar": "Tags",
  "kernelspec": {
   "display_name": "Python 3",
   "language": "python",
   "name": "python3"
  },
  "language_info": {
   "codemirror_mode": {
    "name": "ipython",
    "version": 3
   },
   "file_extension": ".py",
   "mimetype": "text/x-python",
   "name": "python",
   "nbconvert_exporter": "python",
   "pygments_lexer": "ipython3",
   "version": "3.8.8"
  }
 },
 "nbformat": 4,
 "nbformat_minor": 5
}